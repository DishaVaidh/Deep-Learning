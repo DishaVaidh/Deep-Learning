{
 "cells": [
  {
   "cell_type": "code",
   "execution_count": 2,
   "id": "bcdfd971",
   "metadata": {},
   "outputs": [],
   "source": [
    "import tensorflow as tf\n",
    "from tensorflow.keras import datasets,layers,models\n",
    "import matplotlib.pyplot as plt\n",
    "import numpy as np"
   ]
  },
  {
   "cell_type": "code",
   "execution_count": 4,
   "id": "d0587f62",
   "metadata": {},
   "outputs": [
    {
     "name": "stdout",
     "output_type": "stream",
     "text": [
      "Downloading data from https://www.cs.toronto.edu/~kriz/cifar-10-python.tar.gz\n",
      "170500096/170498071 [==============================] - 351s 2us/step\n",
      "170508288/170498071 [==============================] - 351s 2us/step\n"
     ]
    },
    {
     "data": {
      "text/plain": [
       "((50000, 32, 32, 3), (10000, 32, 32, 3))"
      ]
     },
     "execution_count": 4,
     "metadata": {},
     "output_type": "execute_result"
    }
   ],
   "source": [
    "(xtrain,ytrain),(xtest,ytest) = datasets.cifar10.load_data() \n",
    "xtrain.shape,xtest.shape\n",
    "#It gives size of train set i.e. 50000 and the channel means here image is of 32*32 pixels and rgb channel"
   ]
  },
  {
   "cell_type": "code",
   "execution_count": 5,
   "id": "1cf05ee6",
   "metadata": {},
   "outputs": [
    {
     "name": "stdout",
     "output_type": "stream",
     "text": [
      "(50000, 1)\n"
     ]
    },
    {
     "data": {
      "text/plain": [
       "array([[6],\n",
       "       [9],\n",
       "       [9],\n",
       "       [4],\n",
       "       [1]], dtype=uint8)"
      ]
     },
     "execution_count": 5,
     "metadata": {},
     "output_type": "execute_result"
    }
   ],
   "source": [
    "print(ytrain.shape)#shape is 1 \n",
    "ytrain[:5]#Here are 10 classes available so o/p betweeen 0 and 9"
   ]
  },
  {
   "cell_type": "code",
   "execution_count": 6,
   "id": "d2035755",
   "metadata": {},
   "outputs": [
    {
     "data": {
      "text/plain": [
       "array([6, 9, 9, 4, 1], dtype=uint8)"
      ]
     },
     "execution_count": 6,
     "metadata": {},
     "output_type": "execute_result"
    }
   ],
   "source": [
    "ytrain = ytrain.reshape(-1,)#convert in 1D\n",
    "ytrain[:5]"
   ]
  },
  {
   "cell_type": "code",
   "execution_count": 14,
   "id": "97cd99a4",
   "metadata": {},
   "outputs": [],
   "source": [
    "classes=[\"airplane\",\"automobile\",\"bird\",\"cat\",\"deer\",\"dog\",\"frog\",\"horse\",\"ship\",\"truck\"]"
   ]
  },
  {
   "cell_type": "code",
   "execution_count": 15,
   "id": "e29bb57f",
   "metadata": {},
   "outputs": [],
   "source": [
    "\"\"\"print(xtrain[0])\n",
    "plt.imshow(xtrain[0])\"\"\"\n",
    "\n",
    "def plot(x,y,index):\n",
    "    plt.figure(figsize=(15,2))\n",
    "    plt.imshow(x[index])\n",
    "    plt.xlabel(classes[y[index]])"
   ]
  },
  {
   "cell_type": "code",
   "execution_count": 16,
   "id": "ee5ae530",
   "metadata": {},
   "outputs": [
    {
     "data": {
      "image/png": "[encoded data removed]",
      "text/plain": [
       "<Figure size 1080x144 with 1 Axes>"
      ]
     },
     "metadata": {
      "needs_background": "light"
     },
     "output_type": "display_data"
    },
    {
     "data": {
      "image/png": "[encoded data removed]",
      "text/plain": [
       "<Figure size 1080x144 with 1 Axes>"
      ]
     },
     "metadata": {
      "needs_background": "light"
     },
     "output_type": "display_data"
    }
   ],
   "source": [
    "plot(xtrain,ytrain,0)\n",
    "plot(xtrain,ytrain,1)"
   ]
  },
  {
   "cell_type": "code",
   "execution_count": 19,
   "id": "89c1b438",
   "metadata": {},
   "outputs": [
    {
     "data": {
      "text/plain": [
       "array([[[ 59,  62,  63],\n",
       "        [ 43,  46,  45],\n",
       "        [ 50,  48,  43],\n",
       "        ...,\n",
       "        [158, 132, 108],\n",
       "        [152, 125, 102],\n",
       "        [148, 124, 103]],\n",
       "\n",
       "       [[ 16,  20,  20],\n",
       "        [  0,   0,   0],\n",
       "        [ 18,   8,   0],\n",
       "        ...,\n",
       "        [123,  88,  55],\n",
       "        [119,  83,  50],\n",
       "        [122,  87,  57]],\n",
       "\n",
       "       [[ 25,  24,  21],\n",
       "        [ 16,   7,   0],\n",
       "        [ 49,  27,   8],\n",
       "        ...,\n",
       "        [118,  84,  50],\n",
       "        [120,  84,  50],\n",
       "        [109,  73,  42]],\n",
       "\n",
       "       ...,\n",
       "\n",
       "       [[208, 170,  96],\n",
       "        [201, 153,  34],\n",
       "        [198, 161,  26],\n",
       "        ...,\n",
       "        [160, 133,  70],\n",
       "        [ 56,  31,   7],\n",
       "        [ 53,  34,  20]],\n",
       "\n",
       "       [[180, 139,  96],\n",
       "        [173, 123,  42],\n",
       "        [186, 144,  30],\n",
       "        ...,\n",
       "        [184, 148,  94],\n",
       "        [ 97,  62,  34],\n",
       "        [ 83,  53,  34]],\n",
       "\n",
       "       [[177, 144, 116],\n",
       "        [168, 129,  94],\n",
       "        [179, 142,  87],\n",
       "        ...,\n",
       "        [216, 184, 140],\n",
       "        [151, 118,  84],\n",
       "        [123,  92,  72]]], dtype=uint8)"
      ]
     },
     "execution_count": 19,
     "metadata": {},
     "output_type": "execute_result"
    }
   ],
   "source": [
    "xtrain[0]#Normalise piels b/w 0 and 1"
   ]
  },
  {
   "cell_type": "code",
   "execution_count": 20,
   "id": "2c0944b4",
   "metadata": {},
   "outputs": [],
   "source": [
    "xtrain = xtrain/255\n",
    "xtest = xtest/255"
   ]
  },
  {
   "cell_type": "code",
   "execution_count": 25,
   "id": "db980156",
   "metadata": {},
   "outputs": [
    {
     "name": "stdout",
     "output_type": "stream",
     "text": [
      "Epoch 1/5\n",
      "1563/1563 [==============================] - 70s 45ms/step - loss: 1.8114 - accuracy: 0.3567\n",
      "Epoch 2/5\n",
      "1563/1563 [==============================] - 68s 43ms/step - loss: 1.6213 - accuracy: 0.4296\n",
      "Epoch 3/5\n",
      "1563/1563 [==============================] - 68s 43ms/step - loss: 1.5408 - accuracy: 0.4572\n",
      "Epoch 4/5\n",
      "1563/1563 [==============================] - 68s 44ms/step - loss: 1.4806 - accuracy: 0.4791\n",
      "Epoch 5/5\n",
      "1563/1563 [==============================] - 67s 43ms/step - loss: 1.4305 - accuracy: 0.4973\n"
     ]
    },
    {
     "data": {
      "text/plain": [
       "<keras.callbacks.History at 0x2193afc6a58>"
      ]
     },
     "execution_count": 25,
     "metadata": {},
     "output_type": "execute_result"
    }
   ],
   "source": [
    "ann = models.Sequential([\n",
    "    layers.Flatten(input_shape=(32,32,3)),\n",
    "    layers.Dense(3000,activation='relu'),\n",
    "    layers.Dense(1000,activation='relu'),\n",
    "    layers.Dense(10,activation='sigmoid')\n",
    "])\n",
    "\n",
    "ann.compile(optimizer='SGD',loss='sparse_categorical_crossentropy',metrics=['accuracy'])#sparse_categorical_crossentropy used for value as y is between 0 and 9,categorical_crossentropy is used for 1 hot encoder\n",
    "\n",
    "ann.fit(xtrain,ytrain,epochs=5)"
   ]
  },
  {
   "cell_type": "code",
   "execution_count": 26,
   "id": "7c27b929",
   "metadata": {},
   "outputs": [
    {
     "name": "stdout",
     "output_type": "stream",
     "text": [
      "313/313 [==============================] - 4s 12ms/step - loss: 1.4678 - accuracy: 0.4796\n"
     ]
    },
    {
     "data": {
      "text/plain": [
       "[1.4678022861480713, 0.4796000123023987]"
      ]
     },
     "execution_count": 26,
     "metadata": {},
     "output_type": "execute_result"
    }
   ],
   "source": [
    "ann.evaluate(xtest,ytest)"
   ]
  },
  {
   "cell_type": "code",
   "execution_count": 28,
   "id": "8633f48d",
   "metadata": {},
   "outputs": [
    {
     "name": "stdout",
     "output_type": "stream",
     "text": [
      "Classification report :\n",
      "               precision    recall  f1-score   support\n",
      "\n",
      "           0       0.58      0.52      0.55      1000\n",
      "           1       0.54      0.66      0.60      1000\n",
      "           2       0.43      0.30      0.36      1000\n",
      "           3       0.34      0.36      0.35      1000\n",
      "           4       0.49      0.28      0.36      1000\n",
      "           5       0.37      0.43      0.40      1000\n",
      "           6       0.62      0.39      0.48      1000\n",
      "           7       0.48      0.59      0.53      1000\n",
      "           8       0.63      0.59      0.61      1000\n",
      "           9       0.42      0.68      0.52      1000\n",
      "\n",
      "    accuracy                           0.48     10000\n",
      "   macro avg       0.49      0.48      0.47     10000\n",
      "weighted avg       0.49      0.48      0.47     10000\n",
      "\n"
     ]
    }
   ],
   "source": [
    "from sklearn.metrics import confusion_matrix,classification_report\n",
    "y_pred = ann.predict(xtest)\n",
    "y_pred_classes = [np.argmax(element) for element in y_pred]\n",
    "\n",
    "print('Classification report :\\n',classification_report(ytest,y_pred_classes))"
   ]
  },
  {
   "cell_type": "markdown",
   "id": "a4270707",
   "metadata": {},
   "source": [
    "So in ann here accuracy is very less(around 47%).So we use CNN for images\n",
    "Also we have dense(deep) layers same in cnn but convolutional layer(cnn+relu+pool) added"
   ]
  },
  {
   "cell_type": "code",
   "execution_count": 30,
   "id": "16058af4",
   "metadata": {},
   "outputs": [],
   "source": [
    "cnn = models.Sequential([\n",
    "    #cnn\n",
    "    layers.Conv2D(filters=32,kernel_size=(3,3),activation='relu',input_shape=(32,32,3)),\n",
    "    layers.MaxPooling2D((2,2)),\n",
    "    layers.Conv2D(filters=64,kernel_size=(3,3),activation='relu'),\n",
    "    layers.MaxPooling2D((2,2)), \n",
    "    \n",
    "    #dense\n",
    "    layers.Flatten(),\n",
    "    layers.Dense(64,activation='relu'),\n",
    "    layers.Dense(10,activation='softmax')\n",
    "    #softmax normalise the probablity activation not.  Suppose o/p in activation is 1:.45    2:0.67,in softmax it is 0.45/0.45+0.67 for class 1\n",
    "])"
   ]
  },
  {
   "cell_type": "code",
   "execution_count": 31,
   "id": "326d75a9",
   "metadata": {},
   "outputs": [],
   "source": [
    "cnn.compile(optimizer='adam',loss='sparse_categorical_crossentropy',metrics=['accuracy'])"
   ]
  },
  {
   "cell_type": "code",
   "execution_count": 32,
   "id": "ccc3c0b0",
   "metadata": {},
   "outputs": [
    {
     "name": "stdout",
     "output_type": "stream",
     "text": [
      "Epoch 1/10\n",
      "1563/1563 [==============================] - 31s 20ms/step - loss: 1.4682 - accuracy: 0.4759\n",
      "Epoch 2/10\n",
      "1563/1563 [==============================] - 29s 19ms/step - loss: 1.1212 - accuracy: 0.6090\n",
      "Epoch 3/10\n",
      "1563/1563 [==============================] - 29s 19ms/step - loss: 0.9906 - accuracy: 0.6549\n",
      "Epoch 4/10\n",
      "1563/1563 [==============================] - 29s 19ms/step - loss: 0.9111 - accuracy: 0.6832\n",
      "Epoch 5/10\n",
      "1563/1563 [==============================] - 29s 19ms/step - loss: 0.8475 - accuracy: 0.7048\n",
      "Epoch 6/10\n",
      "1563/1563 [==============================] - 30s 19ms/step - loss: 0.7936 - accuracy: 0.7236\n",
      "Epoch 7/10\n",
      "1563/1563 [==============================] - 32s 21ms/step - loss: 0.7461 - accuracy: 0.7379\n",
      "Epoch 8/10\n",
      "1563/1563 [==============================] - 33s 21ms/step - loss: 0.7030 - accuracy: 0.7540\n",
      "Epoch 9/10\n",
      "1563/1563 [==============================] - 35s 22ms/step - loss: 0.6632 - accuracy: 0.7669\n",
      "Epoch 10/10\n",
      "1563/1563 [==============================] - 35s 23ms/step - loss: 0.6232 - accuracy: 0.7793\n"
     ]
    },
    {
     "data": {
      "text/plain": [
       "<keras.callbacks.History at 0x2193af80588>"
      ]
     },
     "execution_count": 32,
     "metadata": {},
     "output_type": "execute_result"
    }
   ],
   "source": [
    "cnn.fit(xtrain,ytrain,epochs=10)"
   ]
  },
  {
   "cell_type": "code",
   "execution_count": 33,
   "id": "d0d87fac",
   "metadata": {},
   "outputs": [
    {
     "name": "stdout",
     "output_type": "stream",
     "text": [
      "313/313 [==============================] - 2s 5ms/step - loss: 0.9616 - accuracy: 0.6888\n"
     ]
    },
    {
     "data": {
      "text/plain": [
       "[0.9616490006446838, 0.6887999773025513]"
      ]
     },
     "execution_count": 33,
     "metadata": {},
     "output_type": "execute_result"
    }
   ],
   "source": [
    "cnn.evaluate(xtest,ytest)#60% accuracy is good"
   ]
  },
  {
   "cell_type": "code",
   "execution_count": 34,
   "id": "e65f4beb",
   "metadata": {},
   "outputs": [
    {
     "data": {
      "image/png": "[encoded data removed]",
      "text/plain": [
       "<Figure size 1080x144 with 1 Axes>"
      ]
     },
     "metadata": {
      "needs_background": "light"
     },
     "output_type": "display_data"
    }
   ],
   "source": [
    "ytest=ytest.reshape(-1,)#convert in 1D\n",
    "plot(xtest,ytest,1)"
   ]
  },
  {
   "cell_type": "code",
   "execution_count": 35,
   "id": "ae122807",
   "metadata": {},
   "outputs": [
    {
     "data": {
      "text/plain": [
       "array([[8.11275240e-05, 8.41826317e-04, 1.10370620e-05, 9.25370753e-01,\n",
       "        1.07991300e-03, 6.63269758e-02, 3.37269157e-03, 8.02517025e-06,\n",
       "        2.83532264e-03, 7.22589830e-05],\n",
       "       [1.03551266e-03, 3.87649611e-02, 1.38042024e-05, 8.39039330e-06,\n",
       "        1.32735863e-07, 8.41166425e-08, 2.34609431e-07, 5.58939242e-08,\n",
       "        9.59147930e-01, 1.02890260e-03],\n",
       "       [2.82724164e-02, 3.23261786e-03, 9.67711210e-04, 3.60137550e-03,\n",
       "        8.14947358e-04, 4.60762443e-04, 1.03047154e-04, 5.05026488e-04,\n",
       "        9.59441364e-01, 2.60077300e-03],\n",
       "       [7.48137712e-01, 5.80191910e-02, 5.89556992e-02, 2.59725074e-03,\n",
       "        7.95734767e-03, 6.49384820e-05, 9.13022435e-04, 1.64594525e-03,\n",
       "        1.16526723e-01, 5.18216332e-03],\n",
       "       [2.35583116e-06, 1.31962324e-05, 9.57955234e-03, 3.00316652e-03,\n",
       "        6.80273533e-01, 1.71896513e-03, 3.05403709e-01, 5.20523599e-06,\n",
       "        5.18433900e-08, 1.79263637e-07],\n",
       "       [7.46738397e-06, 4.14596798e-06, 2.14259420e-03, 1.85501594e-02,\n",
       "        1.97365158e-03, 2.88958456e-02, 9.38686013e-01, 9.72056575e-03,\n",
       "        1.76047911e-06, 1.78367827e-05]], dtype=float32)"
      ]
     },
     "execution_count": 35,
     "metadata": {},
     "output_type": "execute_result"
    }
   ],
   "source": [
    "y_pred = cnn.predict(xtest)\n",
    "y_pred[:6]\n",
    "#Each element probably distribute b/w 0 and 1 and we find out the max"
   ]
  },
  {
   "cell_type": "code",
   "execution_count": 37,
   "id": "e0eec2f0",
   "metadata": {},
   "outputs": [
    {
     "data": {
      "text/plain": [
       "3"
      ]
     },
     "execution_count": 37,
     "metadata": {},
     "output_type": "execute_result"
    }
   ],
   "source": [
    "np.argmax(y_pred[0])#gives inde of maimum element"
   ]
  },
  {
   "cell_type": "code",
   "execution_count": 38,
   "id": "a44b4329",
   "metadata": {},
   "outputs": [
    {
     "data": {
      "text/plain": [
       "[3, 8, 8, 0, 4]"
      ]
     },
     "execution_count": 38,
     "metadata": {},
     "output_type": "execute_result"
    }
   ],
   "source": [
    "y_pred_classes = [np.argmax(element) for element in y_pred]\n",
    "y_pred_classes[0:5]"
   ]
  },
  {
   "cell_type": "code",
   "execution_count": 40,
   "id": "023e444b",
   "metadata": {},
   "outputs": [
    {
     "data": {
      "text/plain": [
       "array([3, 8, 8, 0, 6], dtype=uint8)"
      ]
     },
     "execution_count": 40,
     "metadata": {},
     "output_type": "execute_result"
    }
   ],
   "source": [
    "ytest[0:5]"
   ]
  },
  {
   "cell_type": "code",
   "execution_count": 41,
   "id": "77c99103",
   "metadata": {},
   "outputs": [
    {
     "data": {
      "image/png": "[encoded data removed]",
      "text/plain": [
       "<Figure size 1080x144 with 1 Axes>"
      ]
     },
     "metadata": {
      "needs_background": "light"
     },
     "output_type": "display_data"
    }
   ],
   "source": [
    "plot(xtest,ytest,1)"
   ]
  },
  {
   "cell_type": "code",
   "execution_count": 42,
   "id": "9b3dcf91",
   "metadata": {},
   "outputs": [
    {
     "data": {
      "text/plain": [
       "'ship'"
      ]
     },
     "execution_count": 42,
     "metadata": {},
     "output_type": "execute_result"
    }
   ],
   "source": [
    "classes[y_pred_classes[1]]#this is predicted and xlabel above is actual"
   ]
  },
  {
   "cell_type": "code",
   "execution_count": 47,
   "id": "97a27573",
   "metadata": {},
   "outputs": [
    {
     "data": {
      "text/plain": [
       "'airplane'"
      ]
     },
     "execution_count": 47,
     "metadata": {},
     "output_type": "execute_result"
    },
    {
     "data": {
      "image/png": "[encoded data removed]",
      "text/plain": [
       "<Figure size 1080x144 with 1 Axes>"
      ]
     },
     "metadata": {
      "needs_background": "light"
     },
     "output_type": "display_data"
    }
   ],
   "source": [
    "plot(xtest,ytest,87)\n",
    "classes[y_pred_classes[87]]#As we can see here it made mistake"
   ]
  },
  {
   "cell_type": "code",
   "execution_count": 48,
   "id": "28fadb28",
   "metadata": {},
   "outputs": [
    {
     "name": "stdout",
     "output_type": "stream",
     "text": [
      "Classification report using cnn :\n",
      "               precision    recall  f1-score   support\n",
      "\n",
      "           0       0.77      0.69      0.73      1000\n",
      "           1       0.83      0.79      0.81      1000\n",
      "           2       0.61      0.55      0.58      1000\n",
      "           3       0.58      0.39      0.46      1000\n",
      "           4       0.52      0.79      0.63      1000\n",
      "           5       0.65      0.51      0.58      1000\n",
      "           6       0.69      0.82      0.75      1000\n",
      "           7       0.72      0.77      0.74      1000\n",
      "           8       0.84      0.76      0.80      1000\n",
      "           9       0.75      0.82      0.78      1000\n",
      "\n",
      "    accuracy                           0.69     10000\n",
      "   macro avg       0.70      0.69      0.68     10000\n",
      "weighted avg       0.70      0.69      0.68     10000\n",
      "\n"
     ]
    }
   ],
   "source": [
    "print('Classification report using cnn :\\n',classification_report(ytest,y_pred_classes))#here its better"
   ]
  },
  {
   "cell_type": "code",
   "execution_count": null,
   "id": "730705b1",
   "metadata": {},
   "outputs": [],
   "source": []
  }
 ],
 "metadata": {
  "kernelspec": {
   "display_name": "Python 3",
   "language": "python",
   "name": "python3"
  },
  "language_info": {
   "codemirror_mode": {
    "name": "ipython",
    "version": 3
   },
   "file_extension": ".py",
   "mimetype": "text/x-python",
   "name": "python",
   "nbconvert_exporter": "python",
   "pygments_lexer": "ipython3",
   "version": "3.6.5"
  }
 },
 "nbformat": 4,
 "nbformat_minor": 5
}
