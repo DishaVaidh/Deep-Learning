{
 "cells": [
  {
   "cell_type": "markdown",
   "id": "0849279d",
   "metadata": {},
   "source": [
    "# Importing necessary libraries"
   ]
  },
  {
   "cell_type": "code",
   "execution_count": 1,
   "id": "23e0f0ec",
   "metadata": {},
   "outputs": [],
   "source": [
    "import numpy as np\n",
    "import pandas as pd\n",
    "import matplotlib.pyplot as plt\n",
    "import seaborn as sb\n",
    "df=pd.read_csv(\"fraud.csv\")"
   ]
  },
  {
   "cell_type": "code",
   "execution_count": 2,
   "id": "6070e34d",
   "metadata": {},
   "outputs": [
    {
     "data": {
      "text/html": [
       "<div>\n",
       "<style scoped>\n",
       "    .dataframe tbody tr th:only-of-type {\n",
       "        vertical-align: middle;\n",
       "    }\n",
       "\n",
       "    .dataframe tbody tr th {\n",
       "        vertical-align: top;\n",
       "    }\n",
       "\n",
       "    .dataframe thead th {\n",
       "        text-align: right;\n",
       "    }\n",
       "</style>\n",
       "<table border=\"1\" class=\"dataframe\">\n",
       "  <thead>\n",
       "    <tr style=\"text-align: right;\">\n",
       "      <th></th>\n",
       "      <th>step</th>\n",
       "      <th>type</th>\n",
       "      <th>amount</th>\n",
       "      <th>nameOrig</th>\n",
       "      <th>oldbalanceOrg</th>\n",
       "      <th>newbalanceOrig</th>\n",
       "      <th>nameDest</th>\n",
       "      <th>oldbalanceDest</th>\n",
       "      <th>newbalanceDest</th>\n",
       "      <th>isFraud</th>\n",
       "      <th>isFlaggedFraud</th>\n",
       "    </tr>\n",
       "  </thead>\n",
       "  <tbody>\n",
       "    <tr>\n",
       "      <th>405643</th>\n",
       "      <td>18</td>\n",
       "      <td>CASH_IN</td>\n",
       "      <td>2785.27</td>\n",
       "      <td>C867071956</td>\n",
       "      <td>2973439.11</td>\n",
       "      <td>2976224.38</td>\n",
       "      <td>C1892060750</td>\n",
       "      <td>33830.15</td>\n",
       "      <td>196654.35</td>\n",
       "      <td>0</td>\n",
       "      <td>0</td>\n",
       "    </tr>\n",
       "    <tr>\n",
       "      <th>4942976</th>\n",
       "      <td>350</td>\n",
       "      <td>TRANSFER</td>\n",
       "      <td>1423747.59</td>\n",
       "      <td>C1531653709</td>\n",
       "      <td>9101.00</td>\n",
       "      <td>0.00</td>\n",
       "      <td>C453820179</td>\n",
       "      <td>91379.99</td>\n",
       "      <td>1515127.58</td>\n",
       "      <td>0</td>\n",
       "      <td>0</td>\n",
       "    </tr>\n",
       "    <tr>\n",
       "      <th>1532723</th>\n",
       "      <td>154</td>\n",
       "      <td>PAYMENT</td>\n",
       "      <td>30424.94</td>\n",
       "      <td>C1794936298</td>\n",
       "      <td>555.00</td>\n",
       "      <td>0.00</td>\n",
       "      <td>M1877228329</td>\n",
       "      <td>0.00</td>\n",
       "      <td>0.00</td>\n",
       "      <td>0</td>\n",
       "      <td>0</td>\n",
       "    </tr>\n",
       "    <tr>\n",
       "      <th>704377</th>\n",
       "      <td>37</td>\n",
       "      <td>PAYMENT</td>\n",
       "      <td>8868.64</td>\n",
       "      <td>C1162724794</td>\n",
       "      <td>39812.00</td>\n",
       "      <td>30943.36</td>\n",
       "      <td>M1297024205</td>\n",
       "      <td>0.00</td>\n",
       "      <td>0.00</td>\n",
       "      <td>0</td>\n",
       "      <td>0</td>\n",
       "    </tr>\n",
       "    <tr>\n",
       "      <th>867733</th>\n",
       "      <td>42</td>\n",
       "      <td>CASH_OUT</td>\n",
       "      <td>4842.54</td>\n",
       "      <td>C1375996682</td>\n",
       "      <td>149420.00</td>\n",
       "      <td>144577.46</td>\n",
       "      <td>C1120653298</td>\n",
       "      <td>27718.60</td>\n",
       "      <td>32561.14</td>\n",
       "      <td>0</td>\n",
       "      <td>0</td>\n",
       "    </tr>\n",
       "  </tbody>\n",
       "</table>\n",
       "</div>"
      ],
      "text/plain": [
       "         step      type      amount     nameOrig  oldbalanceOrg  \\\n",
       "405643     18   CASH_IN     2785.27   C867071956     2973439.11   \n",
       "4942976   350  TRANSFER  1423747.59  C1531653709        9101.00   \n",
       "1532723   154   PAYMENT    30424.94  C1794936298         555.00   \n",
       "704377     37   PAYMENT     8868.64  C1162724794       39812.00   \n",
       "867733     42  CASH_OUT     4842.54  C1375996682      149420.00   \n",
       "\n",
       "         newbalanceOrig     nameDest  oldbalanceDest  newbalanceDest  isFraud  \\\n",
       "405643       2976224.38  C1892060750        33830.15       196654.35        0   \n",
       "4942976            0.00   C453820179        91379.99      1515127.58        0   \n",
       "1532723            0.00  M1877228329            0.00            0.00        0   \n",
       "704377         30943.36  M1297024205            0.00            0.00        0   \n",
       "867733        144577.46  C1120653298        27718.60        32561.14        0   \n",
       "\n",
       "         isFlaggedFraud  \n",
       "405643                0  \n",
       "4942976               0  \n",
       "1532723               0  \n",
       "704377                0  \n",
       "867733                0  "
      ]
     },
     "execution_count": 2,
     "metadata": {},
     "output_type": "execute_result"
    }
   ],
   "source": [
    "df.sample(5)"
   ]
  },
  {
   "cell_type": "code",
   "execution_count": 3,
   "id": "4dabeb9c",
   "metadata": {
    "scrolled": true
   },
   "outputs": [
    {
     "data": {
      "text/plain": [
       "array([0, 1], dtype=int64)"
      ]
     },
     "execution_count": 3,
     "metadata": {},
     "output_type": "execute_result"
    }
   ],
   "source": [
    "df['isFraud'].unique()"
   ]
  },
  {
   "cell_type": "code",
   "execution_count": 4,
   "id": "53e30344",
   "metadata": {
    "scrolled": true
   },
   "outputs": [
    {
     "data": {
      "text/plain": [
       "0    6354407\n",
       "1       8213\n",
       "Name: isFraud, dtype: int64"
      ]
     },
     "execution_count": 4,
     "metadata": {},
     "output_type": "execute_result"
    }
   ],
   "source": [
    "df['isFraud'].value_counts()"
   ]
  },
  {
   "cell_type": "code",
   "execution_count": 5,
   "id": "b377cabc",
   "metadata": {},
   "outputs": [
    {
     "data": {
      "text/html": [
       "<div>\n",
       "<style scoped>\n",
       "    .dataframe tbody tr th:only-of-type {\n",
       "        vertical-align: middle;\n",
       "    }\n",
       "\n",
       "    .dataframe tbody tr th {\n",
       "        vertical-align: top;\n",
       "    }\n",
       "\n",
       "    .dataframe thead th {\n",
       "        text-align: right;\n",
       "    }\n",
       "</style>\n",
       "<table border=\"1\" class=\"dataframe\">\n",
       "  <thead>\n",
       "    <tr style=\"text-align: right;\">\n",
       "      <th></th>\n",
       "      <th>step</th>\n",
       "      <th>type</th>\n",
       "      <th>amount</th>\n",
       "      <th>nameOrig</th>\n",
       "      <th>oldbalanceOrg</th>\n",
       "      <th>newbalanceOrig</th>\n",
       "      <th>nameDest</th>\n",
       "      <th>oldbalanceDest</th>\n",
       "      <th>newbalanceDest</th>\n",
       "      <th>isFraud</th>\n",
       "      <th>isFlaggedFraud</th>\n",
       "    </tr>\n",
       "  </thead>\n",
       "  <tbody>\n",
       "    <tr>\n",
       "      <th>2171579</th>\n",
       "      <td>185</td>\n",
       "      <td>TRANSFER</td>\n",
       "      <td>664480.69</td>\n",
       "      <td>C279094481</td>\n",
       "      <td>0.00</td>\n",
       "      <td>0.00</td>\n",
       "      <td>C894619084</td>\n",
       "      <td>2457318.52</td>\n",
       "      <td>3121799.21</td>\n",
       "      <td>0</td>\n",
       "      <td>0</td>\n",
       "    </tr>\n",
       "    <tr>\n",
       "      <th>1133863</th>\n",
       "      <td>131</td>\n",
       "      <td>CASH_OUT</td>\n",
       "      <td>121288.52</td>\n",
       "      <td>C785046537</td>\n",
       "      <td>20610.00</td>\n",
       "      <td>0.00</td>\n",
       "      <td>C59232933</td>\n",
       "      <td>0.00</td>\n",
       "      <td>121288.52</td>\n",
       "      <td>0</td>\n",
       "      <td>0</td>\n",
       "    </tr>\n",
       "    <tr>\n",
       "      <th>3991469</th>\n",
       "      <td>298</td>\n",
       "      <td>CASH_OUT</td>\n",
       "      <td>149578.34</td>\n",
       "      <td>C419543016</td>\n",
       "      <td>20361.00</td>\n",
       "      <td>0.00</td>\n",
       "      <td>C814778966</td>\n",
       "      <td>64731.03</td>\n",
       "      <td>214309.37</td>\n",
       "      <td>0</td>\n",
       "      <td>0</td>\n",
       "    </tr>\n",
       "    <tr>\n",
       "      <th>2618056</th>\n",
       "      <td>208</td>\n",
       "      <td>CASH_OUT</td>\n",
       "      <td>170624.13</td>\n",
       "      <td>C755318573</td>\n",
       "      <td>0.00</td>\n",
       "      <td>0.00</td>\n",
       "      <td>C899673855</td>\n",
       "      <td>355714.90</td>\n",
       "      <td>526339.02</td>\n",
       "      <td>0</td>\n",
       "      <td>0</td>\n",
       "    </tr>\n",
       "    <tr>\n",
       "      <th>4701848</th>\n",
       "      <td>331</td>\n",
       "      <td>PAYMENT</td>\n",
       "      <td>1501.08</td>\n",
       "      <td>C1052748956</td>\n",
       "      <td>0.00</td>\n",
       "      <td>0.00</td>\n",
       "      <td>M663893775</td>\n",
       "      <td>0.00</td>\n",
       "      <td>0.00</td>\n",
       "      <td>0</td>\n",
       "      <td>0</td>\n",
       "    </tr>\n",
       "    <tr>\n",
       "      <th>5708885</th>\n",
       "      <td>398</td>\n",
       "      <td>CASH_IN</td>\n",
       "      <td>81931.70</td>\n",
       "      <td>C260053696</td>\n",
       "      <td>561684.82</td>\n",
       "      <td>643616.52</td>\n",
       "      <td>C849757077</td>\n",
       "      <td>4194225.68</td>\n",
       "      <td>4112293.99</td>\n",
       "      <td>0</td>\n",
       "      <td>0</td>\n",
       "    </tr>\n",
       "    <tr>\n",
       "      <th>4746199</th>\n",
       "      <td>333</td>\n",
       "      <td>PAYMENT</td>\n",
       "      <td>38837.86</td>\n",
       "      <td>C476748527</td>\n",
       "      <td>0.00</td>\n",
       "      <td>0.00</td>\n",
       "      <td>M998518151</td>\n",
       "      <td>0.00</td>\n",
       "      <td>0.00</td>\n",
       "      <td>0</td>\n",
       "      <td>0</td>\n",
       "    </tr>\n",
       "    <tr>\n",
       "      <th>3974399</th>\n",
       "      <td>297</td>\n",
       "      <td>CASH_OUT</td>\n",
       "      <td>59857.64</td>\n",
       "      <td>C1526346488</td>\n",
       "      <td>172914.81</td>\n",
       "      <td>113057.16</td>\n",
       "      <td>C1917872398</td>\n",
       "      <td>6662028.13</td>\n",
       "      <td>6721885.77</td>\n",
       "      <td>0</td>\n",
       "      <td>0</td>\n",
       "    </tr>\n",
       "    <tr>\n",
       "      <th>4820304</th>\n",
       "      <td>346</td>\n",
       "      <td>CASH_OUT</td>\n",
       "      <td>49556.09</td>\n",
       "      <td>C273559611</td>\n",
       "      <td>2264.00</td>\n",
       "      <td>0.00</td>\n",
       "      <td>C2088905083</td>\n",
       "      <td>436814.12</td>\n",
       "      <td>486370.21</td>\n",
       "      <td>0</td>\n",
       "      <td>0</td>\n",
       "    </tr>\n",
       "    <tr>\n",
       "      <th>266076</th>\n",
       "      <td>15</td>\n",
       "      <td>PAYMENT</td>\n",
       "      <td>9659.31</td>\n",
       "      <td>C1211612658</td>\n",
       "      <td>119678.55</td>\n",
       "      <td>110019.24</td>\n",
       "      <td>M512277959</td>\n",
       "      <td>0.00</td>\n",
       "      <td>0.00</td>\n",
       "      <td>0</td>\n",
       "      <td>0</td>\n",
       "    </tr>\n",
       "  </tbody>\n",
       "</table>\n",
       "</div>"
      ],
      "text/plain": [
       "         step      type     amount     nameOrig  oldbalanceOrg  \\\n",
       "2171579   185  TRANSFER  664480.69   C279094481           0.00   \n",
       "1133863   131  CASH_OUT  121288.52   C785046537       20610.00   \n",
       "3991469   298  CASH_OUT  149578.34   C419543016       20361.00   \n",
       "2618056   208  CASH_OUT  170624.13   C755318573           0.00   \n",
       "4701848   331   PAYMENT    1501.08  C1052748956           0.00   \n",
       "5708885   398   CASH_IN   81931.70   C260053696      561684.82   \n",
       "4746199   333   PAYMENT   38837.86   C476748527           0.00   \n",
       "3974399   297  CASH_OUT   59857.64  C1526346488      172914.81   \n",
       "4820304   346  CASH_OUT   49556.09   C273559611        2264.00   \n",
       "266076     15   PAYMENT    9659.31  C1211612658      119678.55   \n",
       "\n",
       "         newbalanceOrig     nameDest  oldbalanceDest  newbalanceDest  isFraud  \\\n",
       "2171579            0.00   C894619084      2457318.52      3121799.21        0   \n",
       "1133863            0.00    C59232933            0.00       121288.52        0   \n",
       "3991469            0.00   C814778966        64731.03       214309.37        0   \n",
       "2618056            0.00   C899673855       355714.90       526339.02        0   \n",
       "4701848            0.00   M663893775            0.00            0.00        0   \n",
       "5708885       643616.52   C849757077      4194225.68      4112293.99        0   \n",
       "4746199            0.00   M998518151            0.00            0.00        0   \n",
       "3974399       113057.16  C1917872398      6662028.13      6721885.77        0   \n",
       "4820304            0.00  C2088905083       436814.12       486370.21        0   \n",
       "266076        110019.24   M512277959            0.00            0.00        0   \n",
       "\n",
       "         isFlaggedFraud  \n",
       "2171579               0  \n",
       "1133863               0  \n",
       "3991469               0  \n",
       "2618056               0  \n",
       "4701848               0  \n",
       "5708885               0  \n",
       "4746199               0  \n",
       "3974399               0  \n",
       "4820304               0  \n",
       "266076                0  "
      ]
     },
     "execution_count": 5,
     "metadata": {},
     "output_type": "execute_result"
    }
   ],
   "source": [
    "df[df['isFraud']==0].sample(10)"
   ]
  },
  {
   "cell_type": "code",
   "execution_count": 6,
   "id": "42f91aa6",
   "metadata": {},
   "outputs": [
    {
     "data": {
      "text/html": [
       "<div>\n",
       "<style scoped>\n",
       "    .dataframe tbody tr th:only-of-type {\n",
       "        vertical-align: middle;\n",
       "    }\n",
       "\n",
       "    .dataframe tbody tr th {\n",
       "        vertical-align: top;\n",
       "    }\n",
       "\n",
       "    .dataframe thead th {\n",
       "        text-align: right;\n",
       "    }\n",
       "</style>\n",
       "<table border=\"1\" class=\"dataframe\">\n",
       "  <thead>\n",
       "    <tr style=\"text-align: right;\">\n",
       "      <th></th>\n",
       "      <th>step</th>\n",
       "      <th>type</th>\n",
       "      <th>amount</th>\n",
       "      <th>nameOrig</th>\n",
       "      <th>oldbalanceOrg</th>\n",
       "      <th>newbalanceOrig</th>\n",
       "      <th>nameDest</th>\n",
       "      <th>oldbalanceDest</th>\n",
       "      <th>newbalanceDest</th>\n",
       "      <th>isFraud</th>\n",
       "      <th>isFlaggedFraud</th>\n",
       "    </tr>\n",
       "  </thead>\n",
       "  <tbody>\n",
       "    <tr>\n",
       "      <th>2901379</th>\n",
       "      <td>228</td>\n",
       "      <td>CASH_OUT</td>\n",
       "      <td>4526748.52</td>\n",
       "      <td>C565197810</td>\n",
       "      <td>4526748.52</td>\n",
       "      <td>0.0</td>\n",
       "      <td>C725918022</td>\n",
       "      <td>416831.26</td>\n",
       "      <td>4943579.77</td>\n",
       "      <td>1</td>\n",
       "      <td>0</td>\n",
       "    </tr>\n",
       "    <tr>\n",
       "      <th>6116736</th>\n",
       "      <td>528</td>\n",
       "      <td>CASH_OUT</td>\n",
       "      <td>2173367.35</td>\n",
       "      <td>C662152824</td>\n",
       "      <td>2173367.35</td>\n",
       "      <td>0.0</td>\n",
       "      <td>C1412203460</td>\n",
       "      <td>476131.89</td>\n",
       "      <td>2649499.24</td>\n",
       "      <td>1</td>\n",
       "      <td>0</td>\n",
       "    </tr>\n",
       "    <tr>\n",
       "      <th>1030778</th>\n",
       "      <td>92</td>\n",
       "      <td>CASH_OUT</td>\n",
       "      <td>19742.71</td>\n",
       "      <td>C931340371</td>\n",
       "      <td>19742.71</td>\n",
       "      <td>0.0</td>\n",
       "      <td>C781083195</td>\n",
       "      <td>2098671.68</td>\n",
       "      <td>2118414.39</td>\n",
       "      <td>1</td>\n",
       "      <td>0</td>\n",
       "    </tr>\n",
       "    <tr>\n",
       "      <th>6362429</th>\n",
       "      <td>728</td>\n",
       "      <td>CASH_OUT</td>\n",
       "      <td>252667.75</td>\n",
       "      <td>C1817806739</td>\n",
       "      <td>252667.75</td>\n",
       "      <td>0.0</td>\n",
       "      <td>C84626312</td>\n",
       "      <td>0.00</td>\n",
       "      <td>252667.75</td>\n",
       "      <td>1</td>\n",
       "      <td>0</td>\n",
       "    </tr>\n",
       "    <tr>\n",
       "      <th>6281800</th>\n",
       "      <td>652</td>\n",
       "      <td>CASH_OUT</td>\n",
       "      <td>762782.66</td>\n",
       "      <td>C1357888616</td>\n",
       "      <td>762782.66</td>\n",
       "      <td>0.0</td>\n",
       "      <td>C1949432790</td>\n",
       "      <td>0.00</td>\n",
       "      <td>762782.66</td>\n",
       "      <td>1</td>\n",
       "      <td>0</td>\n",
       "    </tr>\n",
       "    <tr>\n",
       "      <th>3959931</th>\n",
       "      <td>290</td>\n",
       "      <td>CASH_OUT</td>\n",
       "      <td>165368.59</td>\n",
       "      <td>C158707184</td>\n",
       "      <td>165368.59</td>\n",
       "      <td>0.0</td>\n",
       "      <td>C615658157</td>\n",
       "      <td>19946.26</td>\n",
       "      <td>185314.85</td>\n",
       "      <td>1</td>\n",
       "      <td>0</td>\n",
       "    </tr>\n",
       "    <tr>\n",
       "      <th>4796624</th>\n",
       "      <td>345</td>\n",
       "      <td>CASH_OUT</td>\n",
       "      <td>128936.95</td>\n",
       "      <td>C1177265377</td>\n",
       "      <td>128936.95</td>\n",
       "      <td>0.0</td>\n",
       "      <td>C1158181997</td>\n",
       "      <td>1741561.22</td>\n",
       "      <td>1870498.17</td>\n",
       "      <td>1</td>\n",
       "      <td>0</td>\n",
       "    </tr>\n",
       "    <tr>\n",
       "      <th>3628555</th>\n",
       "      <td>274</td>\n",
       "      <td>CASH_OUT</td>\n",
       "      <td>5052211.09</td>\n",
       "      <td>C253761308</td>\n",
       "      <td>5052211.09</td>\n",
       "      <td>0.0</td>\n",
       "      <td>C232278551</td>\n",
       "      <td>6890050.56</td>\n",
       "      <td>11942261.64</td>\n",
       "      <td>1</td>\n",
       "      <td>0</td>\n",
       "    </tr>\n",
       "    <tr>\n",
       "      <th>3905470</th>\n",
       "      <td>284</td>\n",
       "      <td>TRANSFER</td>\n",
       "      <td>800115.05</td>\n",
       "      <td>C669992732</td>\n",
       "      <td>800115.05</td>\n",
       "      <td>0.0</td>\n",
       "      <td>C1306515045</td>\n",
       "      <td>0.00</td>\n",
       "      <td>0.00</td>\n",
       "      <td>1</td>\n",
       "      <td>0</td>\n",
       "    </tr>\n",
       "    <tr>\n",
       "      <th>6292362</th>\n",
       "      <td>666</td>\n",
       "      <td>TRANSFER</td>\n",
       "      <td>113336.41</td>\n",
       "      <td>C1184786020</td>\n",
       "      <td>113336.41</td>\n",
       "      <td>0.0</td>\n",
       "      <td>C1519560642</td>\n",
       "      <td>0.00</td>\n",
       "      <td>0.00</td>\n",
       "      <td>1</td>\n",
       "      <td>0</td>\n",
       "    </tr>\n",
       "  </tbody>\n",
       "</table>\n",
       "</div>"
      ],
      "text/plain": [
       "         step      type      amount     nameOrig  oldbalanceOrg  \\\n",
       "2901379   228  CASH_OUT  4526748.52   C565197810     4526748.52   \n",
       "6116736   528  CASH_OUT  2173367.35   C662152824     2173367.35   \n",
       "1030778    92  CASH_OUT    19742.71   C931340371       19742.71   \n",
       "6362429   728  CASH_OUT   252667.75  C1817806739      252667.75   \n",
       "6281800   652  CASH_OUT   762782.66  C1357888616      762782.66   \n",
       "3959931   290  CASH_OUT   165368.59   C158707184      165368.59   \n",
       "4796624   345  CASH_OUT   128936.95  C1177265377      128936.95   \n",
       "3628555   274  CASH_OUT  5052211.09   C253761308     5052211.09   \n",
       "3905470   284  TRANSFER   800115.05   C669992732      800115.05   \n",
       "6292362   666  TRANSFER   113336.41  C1184786020      113336.41   \n",
       "\n",
       "         newbalanceOrig     nameDest  oldbalanceDest  newbalanceDest  isFraud  \\\n",
       "2901379             0.0   C725918022       416831.26      4943579.77        1   \n",
       "6116736             0.0  C1412203460       476131.89      2649499.24        1   \n",
       "1030778             0.0   C781083195      2098671.68      2118414.39        1   \n",
       "6362429             0.0    C84626312            0.00       252667.75        1   \n",
       "6281800             0.0  C1949432790            0.00       762782.66        1   \n",
       "3959931             0.0   C615658157        19946.26       185314.85        1   \n",
       "4796624             0.0  C1158181997      1741561.22      1870498.17        1   \n",
       "3628555             0.0   C232278551      6890050.56     11942261.64        1   \n",
       "3905470             0.0  C1306515045            0.00            0.00        1   \n",
       "6292362             0.0  C1519560642            0.00            0.00        1   \n",
       "\n",
       "         isFlaggedFraud  \n",
       "2901379               0  \n",
       "6116736               0  \n",
       "1030778               0  \n",
       "6362429               0  \n",
       "6281800               0  \n",
       "3959931               0  \n",
       "4796624               0  \n",
       "3628555               0  \n",
       "3905470               0  \n",
       "6292362               0  "
      ]
     },
     "execution_count": 6,
     "metadata": {},
     "output_type": "execute_result"
    }
   ],
   "source": [
    "df[df['isFraud']==1].sample(10)"
   ]
  },
  {
   "cell_type": "code",
   "execution_count": 7,
   "id": "b37f576d",
   "metadata": {},
   "outputs": [
    {
     "name": "stdout",
     "output_type": "stream",
     "text": [
      "<class 'pandas.core.frame.DataFrame'>\n",
      "RangeIndex: 6362620 entries, 0 to 6362619\n",
      "Data columns (total 11 columns):\n",
      " #   Column          Dtype  \n",
      "---  ------          -----  \n",
      " 0   step            int64  \n",
      " 1   type            object \n",
      " 2   amount          float64\n",
      " 3   nameOrig        object \n",
      " 4   oldbalanceOrg   float64\n",
      " 5   newbalanceOrig  float64\n",
      " 6   nameDest        object \n",
      " 7   oldbalanceDest  float64\n",
      " 8   newbalanceDest  float64\n",
      " 9   isFraud         int64  \n",
      " 10  isFlaggedFraud  int64  \n",
      "dtypes: float64(5), int64(3), object(3)\n",
      "memory usage: 534.0+ MB\n"
     ]
    }
   ],
   "source": [
    "df.info()"
   ]
  },
  {
   "cell_type": "code",
   "execution_count": 8,
   "id": "396b5820",
   "metadata": {
    "scrolled": true
   },
   "outputs": [
    {
     "data": {
      "text/plain": [
       "step              0\n",
       "type              0\n",
       "amount            0\n",
       "nameOrig          0\n",
       "oldbalanceOrg     0\n",
       "newbalanceOrig    0\n",
       "nameDest          0\n",
       "oldbalanceDest    0\n",
       "newbalanceDest    0\n",
       "isFraud           0\n",
       "isFlaggedFraud    0\n",
       "dtype: int64"
      ]
     },
     "execution_count": 8,
     "metadata": {},
     "output_type": "execute_result"
    }
   ],
   "source": [
    "df.isna().sum()"
   ]
  },
  {
   "cell_type": "markdown",
   "id": "f6380e55",
   "metadata": {},
   "source": [
    "# Visualise our dataset on the basis of type"
   ]
  },
  {
   "cell_type": "code",
   "execution_count": 9,
   "id": "5020feed",
   "metadata": {},
   "outputs": [
    {
     "data": {
      "text/plain": [
       "<matplotlib.legend.Legend at 0x26dc9c7ae80>"
      ]
     },
     "execution_count": 9,
     "metadata": {},
     "output_type": "execute_result"
    },
    {
     "data": {
      "image/png": "[encoded data removed]",
      "text/plain": [
       "<Figure size 432x288 with 1 Axes>"
      ]
     },
     "metadata": {
      "needs_background": "light"
     },
     "output_type": "display_data"
    }
   ],
   "source": [
    "type_fraud_no = df[df.isFraud==0].type\n",
    "type_fraud_yes = df[df.isFraud==1].type\n",
    "\n",
    "plt.xlabel(\"type\")\n",
    "plt.ylabel(\"Number Of Customers\")\n",
    "plt.title(\"Fraud detection Visualiztion\")\n",
    "\n",
    "\n",
    "plt.hist([type_fraud_yes, type_fraud_no], rwidth=0.95, color=['green','red'],label=['Fraud=Yes','Fraud=No'])\n",
    "plt.legend()"
   ]
  },
  {
   "cell_type": "markdown",
   "id": "a8484729",
   "metadata": {},
   "source": [
    "# Drop unnecessary columns"
   ]
  },
  {
   "cell_type": "code",
   "execution_count": 10,
   "id": "4d9e2a9d",
   "metadata": {},
   "outputs": [],
   "source": [
    "del df['nameOrig']              \n",
    "del df ['nameDest'] "
   ]
  },
  {
   "cell_type": "markdown",
   "id": "a7435911",
   "metadata": {},
   "source": [
    "# Convert column type to numeric"
   ]
  },
  {
   "cell_type": "code",
   "execution_count": 11,
   "id": "cb57c100",
   "metadata": {},
   "outputs": [
    {
     "data": {
      "text/html": [
       "<div>\n",
       "<style scoped>\n",
       "    .dataframe tbody tr th:only-of-type {\n",
       "        vertical-align: middle;\n",
       "    }\n",
       "\n",
       "    .dataframe tbody tr th {\n",
       "        vertical-align: top;\n",
       "    }\n",
       "\n",
       "    .dataframe thead th {\n",
       "        text-align: right;\n",
       "    }\n",
       "</style>\n",
       "<table border=\"1\" class=\"dataframe\">\n",
       "  <thead>\n",
       "    <tr style=\"text-align: right;\">\n",
       "      <th></th>\n",
       "      <th>step</th>\n",
       "      <th>type</th>\n",
       "      <th>amount</th>\n",
       "      <th>oldbalanceOrg</th>\n",
       "      <th>newbalanceOrig</th>\n",
       "      <th>oldbalanceDest</th>\n",
       "      <th>newbalanceDest</th>\n",
       "      <th>isFraud</th>\n",
       "      <th>isFlaggedFraud</th>\n",
       "    </tr>\n",
       "  </thead>\n",
       "  <tbody>\n",
       "    <tr>\n",
       "      <th>0</th>\n",
       "      <td>1</td>\n",
       "      <td>3</td>\n",
       "      <td>9839.64</td>\n",
       "      <td>170136.00</td>\n",
       "      <td>160296.36</td>\n",
       "      <td>0.00</td>\n",
       "      <td>0.00</td>\n",
       "      <td>0</td>\n",
       "      <td>0</td>\n",
       "    </tr>\n",
       "    <tr>\n",
       "      <th>1</th>\n",
       "      <td>1</td>\n",
       "      <td>3</td>\n",
       "      <td>1864.28</td>\n",
       "      <td>21249.00</td>\n",
       "      <td>19384.72</td>\n",
       "      <td>0.00</td>\n",
       "      <td>0.00</td>\n",
       "      <td>0</td>\n",
       "      <td>0</td>\n",
       "    </tr>\n",
       "    <tr>\n",
       "      <th>2</th>\n",
       "      <td>1</td>\n",
       "      <td>4</td>\n",
       "      <td>181.00</td>\n",
       "      <td>181.00</td>\n",
       "      <td>0.00</td>\n",
       "      <td>0.00</td>\n",
       "      <td>0.00</td>\n",
       "      <td>1</td>\n",
       "      <td>0</td>\n",
       "    </tr>\n",
       "    <tr>\n",
       "      <th>3</th>\n",
       "      <td>1</td>\n",
       "      <td>1</td>\n",
       "      <td>181.00</td>\n",
       "      <td>181.00</td>\n",
       "      <td>0.00</td>\n",
       "      <td>21182.00</td>\n",
       "      <td>0.00</td>\n",
       "      <td>1</td>\n",
       "      <td>0</td>\n",
       "    </tr>\n",
       "    <tr>\n",
       "      <th>4</th>\n",
       "      <td>1</td>\n",
       "      <td>3</td>\n",
       "      <td>11668.14</td>\n",
       "      <td>41554.00</td>\n",
       "      <td>29885.86</td>\n",
       "      <td>0.00</td>\n",
       "      <td>0.00</td>\n",
       "      <td>0</td>\n",
       "      <td>0</td>\n",
       "    </tr>\n",
       "    <tr>\n",
       "      <th>...</th>\n",
       "      <td>...</td>\n",
       "      <td>...</td>\n",
       "      <td>...</td>\n",
       "      <td>...</td>\n",
       "      <td>...</td>\n",
       "      <td>...</td>\n",
       "      <td>...</td>\n",
       "      <td>...</td>\n",
       "      <td>...</td>\n",
       "    </tr>\n",
       "    <tr>\n",
       "      <th>6362615</th>\n",
       "      <td>743</td>\n",
       "      <td>1</td>\n",
       "      <td>339682.13</td>\n",
       "      <td>339682.13</td>\n",
       "      <td>0.00</td>\n",
       "      <td>0.00</td>\n",
       "      <td>339682.13</td>\n",
       "      <td>1</td>\n",
       "      <td>0</td>\n",
       "    </tr>\n",
       "    <tr>\n",
       "      <th>6362616</th>\n",
       "      <td>743</td>\n",
       "      <td>4</td>\n",
       "      <td>6311409.28</td>\n",
       "      <td>6311409.28</td>\n",
       "      <td>0.00</td>\n",
       "      <td>0.00</td>\n",
       "      <td>0.00</td>\n",
       "      <td>1</td>\n",
       "      <td>0</td>\n",
       "    </tr>\n",
       "    <tr>\n",
       "      <th>6362617</th>\n",
       "      <td>743</td>\n",
       "      <td>1</td>\n",
       "      <td>6311409.28</td>\n",
       "      <td>6311409.28</td>\n",
       "      <td>0.00</td>\n",
       "      <td>68488.84</td>\n",
       "      <td>6379898.11</td>\n",
       "      <td>1</td>\n",
       "      <td>0</td>\n",
       "    </tr>\n",
       "    <tr>\n",
       "      <th>6362618</th>\n",
       "      <td>743</td>\n",
       "      <td>4</td>\n",
       "      <td>850002.52</td>\n",
       "      <td>850002.52</td>\n",
       "      <td>0.00</td>\n",
       "      <td>0.00</td>\n",
       "      <td>0.00</td>\n",
       "      <td>1</td>\n",
       "      <td>0</td>\n",
       "    </tr>\n",
       "    <tr>\n",
       "      <th>6362619</th>\n",
       "      <td>743</td>\n",
       "      <td>1</td>\n",
       "      <td>850002.52</td>\n",
       "      <td>850002.52</td>\n",
       "      <td>0.00</td>\n",
       "      <td>6510099.11</td>\n",
       "      <td>7360101.63</td>\n",
       "      <td>1</td>\n",
       "      <td>0</td>\n",
       "    </tr>\n",
       "  </tbody>\n",
       "</table>\n",
       "<p>6362620 rows × 9 columns</p>\n",
       "</div>"
      ],
      "text/plain": [
       "         step  type      amount  oldbalanceOrg  newbalanceOrig  \\\n",
       "0           1     3     9839.64      170136.00       160296.36   \n",
       "1           1     3     1864.28       21249.00        19384.72   \n",
       "2           1     4      181.00         181.00            0.00   \n",
       "3           1     1      181.00         181.00            0.00   \n",
       "4           1     3    11668.14       41554.00        29885.86   \n",
       "...       ...   ...         ...            ...             ...   \n",
       "6362615   743     1   339682.13      339682.13            0.00   \n",
       "6362616   743     4  6311409.28     6311409.28            0.00   \n",
       "6362617   743     1  6311409.28     6311409.28            0.00   \n",
       "6362618   743     4   850002.52      850002.52            0.00   \n",
       "6362619   743     1   850002.52      850002.52            0.00   \n",
       "\n",
       "         oldbalanceDest  newbalanceDest  isFraud  isFlaggedFraud  \n",
       "0                  0.00            0.00        0               0  \n",
       "1                  0.00            0.00        0               0  \n",
       "2                  0.00            0.00        1               0  \n",
       "3              21182.00            0.00        1               0  \n",
       "4                  0.00            0.00        0               0  \n",
       "...                 ...             ...      ...             ...  \n",
       "6362615            0.00       339682.13        1               0  \n",
       "6362616            0.00            0.00        1               0  \n",
       "6362617        68488.84      6379898.11        1               0  \n",
       "6362618            0.00            0.00        1               0  \n",
       "6362619      6510099.11      7360101.63        1               0  \n",
       "\n",
       "[6362620 rows x 9 columns]"
      ]
     },
     "execution_count": 11,
     "metadata": {},
     "output_type": "execute_result"
    }
   ],
   "source": [
    "from sklearn.preprocessing import LabelEncoder\n",
    "labelencoder = LabelEncoder()\n",
    "df['type'] = labelencoder.fit_transform(df['type'])\n",
    "df"
   ]
  },
  {
   "cell_type": "code",
   "execution_count": 12,
   "id": "20fae1e5",
   "metadata": {},
   "outputs": [
    {
     "data": {
      "text/plain": [
       "step                int64\n",
       "type                int32\n",
       "amount            float64\n",
       "oldbalanceOrg     float64\n",
       "newbalanceOrig    float64\n",
       "oldbalanceDest    float64\n",
       "newbalanceDest    float64\n",
       "isFraud             int64\n",
       "isFlaggedFraud      int64\n",
       "dtype: object"
      ]
     },
     "execution_count": 12,
     "metadata": {},
     "output_type": "execute_result"
    }
   ],
   "source": [
    "df.dtypes"
   ]
  },
  {
   "cell_type": "markdown",
   "id": "289777b3",
   "metadata": {},
   "source": [
    "# using smote to handle imbalanced dataset"
   ]
  },
  {
   "cell_type": "code",
   "execution_count": 13,
   "id": "5ac11031",
   "metadata": {},
   "outputs": [
    {
     "data": {
      "text/plain": [
       "0    6354407\n",
       "1       8213\n",
       "Name: isFraud, dtype: int64"
      ]
     },
     "execution_count": 13,
     "metadata": {},
     "output_type": "execute_result"
    }
   ],
   "source": [
    "X = df.drop('isFraud',axis='columns')\n",
    "y = df['isFraud']\n",
    "\n",
    "y.value_counts()"
   ]
  },
  {
   "cell_type": "code",
   "execution_count": 14,
   "id": "bc7591a3",
   "metadata": {},
   "outputs": [
    {
     "name": "stdout",
     "output_type": "stream",
     "text": [
      "Collecting imbalanced-learn\n",
      "  Downloading https://files.pythonhosted.org/packages/b1/bd/4bb46fb4d317fd0f19aa7463d8906598e5fee073c0842b57cb112f023a45/imbalanced_learn-0.8.1-py3-none-any.whl (189kB)\n",
      "Requirement already satisfied: scipy>=0.19.1 in c:\\users\\admin\\appdata\\local\\programs\\python\\python36\\lib\\site-packages (from imbalanced-learn)\n",
      "Requirement already satisfied: joblib>=0.11 in c:\\users\\admin\\appdata\\local\\programs\\python\\python36\\lib\\site-packages (from imbalanced-learn)\n",
      "Requirement already satisfied: numpy>=1.13.3 in c:\\users\\admin\\appdata\\local\\programs\\python\\python36\\lib\\site-packages (from imbalanced-learn)\n",
      "Requirement already satisfied: scikit-learn>=0.24 in c:\\users\\admin\\appdata\\local\\programs\\python\\python36\\lib\\site-packages (from imbalanced-learn)\n",
      "Requirement already satisfied: threadpoolctl>=2.0.0 in c:\\users\\admin\\appdata\\local\\programs\\python\\python36\\lib\\site-packages (from scikit-learn>=0.24->imbalanced-learn)\n",
      "Installing collected packages: imbalanced-learn\n",
      "Successfully installed imbalanced-learn-0.8.1\n"
     ]
    },
    {
     "name": "stderr",
     "output_type": "stream",
     "text": [
      "You are using pip version 9.0.3, however version 21.2.4 is available.\n",
      "You should consider upgrading via the 'python -m pip install --upgrade pip' command.\n"
     ]
    }
   ],
   "source": [
    "!pip install imbalanced-learn"
   ]
  },
  {
   "cell_type": "code",
   "execution_count": 16,
   "id": "726ee9e3",
   "metadata": {},
   "outputs": [
    {
     "data": {
      "text/plain": [
       "1    6354407\n",
       "0    6354407\n",
       "Name: isFraud, dtype: int64"
      ]
     },
     "execution_count": 16,
     "metadata": {},
     "output_type": "execute_result"
    }
   ],
   "source": [
    "from imblearn.over_sampling import SMOTE\n",
    "\n",
    "smote = SMOTE(sampling_strategy='minority')\n",
    "X_sm, y_sm = smote.fit_resample(X, y)\n",
    "\n",
    "y_sm.value_counts()"
   ]
  },
  {
   "cell_type": "code",
   "execution_count": 17,
   "id": "d70ccdcf",
   "metadata": {},
   "outputs": [],
   "source": [
    "from sklearn.model_selection import train_test_split\n",
    "X_train, X_test, y_train, y_test = train_test_split(X_sm, y_sm, test_size=0.2, random_state=15, stratify=y_sm)"
   ]
  },
  {
   "cell_type": "code",
   "execution_count": 18,
   "id": "6964efc3",
   "metadata": {},
   "outputs": [
    {
     "data": {
      "text/plain": [
       "1    5083526\n",
       "0    5083525\n",
       "Name: isFraud, dtype: int64"
      ]
     },
     "execution_count": 18,
     "metadata": {},
     "output_type": "execute_result"
    }
   ],
   "source": [
    "y_train.value_counts()"
   ]
  },
  {
   "cell_type": "code",
   "execution_count": 19,
   "id": "420b2ae6",
   "metadata": {},
   "outputs": [
    {
     "data": {
      "text/plain": [
       "(10167051, 8)"
      ]
     },
     "execution_count": 19,
     "metadata": {},
     "output_type": "execute_result"
    }
   ],
   "source": [
    "X_train.shape"
   ]
  },
  {
   "cell_type": "code",
   "execution_count": 20,
   "id": "570f503a",
   "metadata": {},
   "outputs": [
    {
     "data": {
      "text/plain": [
       "(2541763, 8)"
      ]
     },
     "execution_count": 20,
     "metadata": {},
     "output_type": "execute_result"
    }
   ],
   "source": [
    "X_test.shape"
   ]
  },
  {
   "cell_type": "code",
   "execution_count": 21,
   "id": "aa269f6d",
   "metadata": {
    "scrolled": true
   },
   "outputs": [
    {
     "data": {
      "text/plain": [
       "8"
      ]
     },
     "execution_count": 21,
     "metadata": {},
     "output_type": "execute_result"
    }
   ],
   "source": [
    "len(X_train.columns)"
   ]
  },
  {
   "cell_type": "markdown",
   "id": "c2b14dbc",
   "metadata": {},
   "source": [
    "# Build a model (ANN) in tensorflow/keras"
   ]
  },
  {
   "cell_type": "code",
   "execution_count": 23,
   "id": "928e82ac",
   "metadata": {},
   "outputs": [
    {
     "name": "stdout",
     "output_type": "stream",
     "text": [
      "Epoch 1/10\n",
      "101671/101671 [==============================] - 134s 1ms/step - loss: 324.5111 - accuracy: 0.6798: 38s - loss: 458.9512 - accuracy:  - ETA: - ETA: 36s - loss: 447 - ETA: 32s - loss: 430.5594 - accuracy - ETA: 32s - loss: 428.8135 - - ETA: 31s - loss: 424.9527 - - ETA: 30s - loss: 421.3494 - ETA:  - ETA: 24s - loss: 399.9722 - accuracy: 0.643 - ETA: 24s - loss: 399.7832 - accuracy: 0. - ETA: 24s - loss: 39\n",
      "Epoch 2/10\n",
      "101671/101671 [==============================] - 135s 1ms/step - loss: 0.4519 - accuracy: 0.8516\n",
      "Epoch 3/10\n",
      "101671/101671 [==============================] - 133s 1ms/step - loss: 0.4367 - accuracy: 0.8550\n",
      "Epoch 4/10\n",
      "101671/101671 [==============================] - 156s 2ms/step - loss: 0.4435 - accuracy: 0.8552\n",
      "Epoch 5/10\n",
      "101671/101671 [==============================] - 168s 2ms/step - loss: 0.4432 - accuracy: 0.86240s - loss: 0.4432 - accuracy: \n",
      "Epoch 6/10\n",
      "101671/101671 [==============================] - 135s 1ms/step - loss: 0.4151 - accuracy: 0.8699:  - ETA: 20s - loss: 0.418 - ETA: 12s - loss: 0.4174 - accuracy: 0 - ETA: 12s - loss: 0.4173 - accu - ETA: 11s - loss: 0.4171 - accuracy - ETA: 11s - loss: 0.4169 - acc - ET\n",
      "Epoch 7/10\n",
      "101671/101671 [==============================] - 140s 1ms/step - loss: 0.4124 - accuracy: 0.8761\n",
      "Epoch 8/10\n",
      "101671/101671 [==============================] - 143s 1ms/step - loss: 0.3935 - accuracy: 0.8767\n",
      "Epoch 9/10\n",
      "101671/101671 [==============================] - 144s 1ms/step - loss: 0.3874 - accuracy: 0.8802\n",
      "Epoch 10/10\n",
      "101671/101671 [==============================] - 182s 2ms/step - loss: 0.3827 - accuracy: 0.8801\n"
     ]
    },
    {
     "data": {
      "text/plain": [
       "<keras.callbacks.History at 0x26ea1b2cf98>"
      ]
     },
     "execution_count": 23,
     "metadata": {},
     "output_type": "execute_result"
    }
   ],
   "source": [
    "import tensorflow as tf\n",
    "from tensorflow import keras\n",
    "\n",
    "\n",
    "model = keras.Sequential([\n",
    "    keras.layers.Dense(20, input_shape=(8,), activation='relu'),\n",
    "    keras.layers.Dropout(0.5),\n",
    "    keras.layers.Dense(15, activation='relu'),\n",
    "    keras.layers.Dropout(0.5),\n",
    "    keras.layers.Dense(1, activation='sigmoid')\n",
    "])\n",
    "\n",
    "# opt = keras.optimizers.Adam(learning_rate=0.01)\n",
    "\n",
    "model.compile(optimizer='adam',\n",
    "              loss='binary_crossentropy',\n",
    "              metrics=['accuracy'])\n",
    "\n",
    "model.fit(X_train, y_train, epochs=10,batch_size=100)"
   ]
  },
  {
   "cell_type": "code",
   "execution_count": 24,
   "id": "a00f4326",
   "metadata": {},
   "outputs": [
    {
     "name": "stdout",
     "output_type": "stream",
     "text": [
      "79431/79431 [==============================] - 71s 887us/step - loss: 0.2088 - accuracy: 0.9555 1:11 - loss: 0.2032 -  - ETA: 1:10 - loss: 0.2082 - accuracy: 0.95 - ETA: 1:10 - loss: 0.2082 - accuracy:  - ETA: 1:04 -  - ETA: 53s - loss: 0.2081 - accur - ETA - ETA: 47s - loss: 0.2087 - a - ETA: 46s - loss: 0.20 - ETA: 43s - loss: 0.2095 - accurac - ETA: 43s - loss: 0.2110 - accuracy - ETA: 42s - loss: 0.2109 - accuracy: 0. - ETA: 42s -  - ETA: 41s -  - ETA: 38s - loss: 0.2106 - acc - ETA: 37s - loss: 0. - ETA: 35s - loss: 0.2103 - accuracy: 0.9 - ETA: 35s - loss: 0.2102 - accuracy: 0.95 - ET - ETA: 3 - ETA: 31s - loss: - ETA: 29s - loss: 0 - ETA: 28s - loss: 0.2095 - accuracy: 0 - ETA: 27s - loss: 0.2094 -  - ETA: 16s - loss: 0.2086 - accuracy: 0.9 - ETA: 16s - loss - ETA: 12s - ETA: 11s - loss: 0.20 - E - ETA: 3s - loss: 0.2092 - accuracy - ETA: 3s - loss: 0.2092 - accura - ETA: 2s - loss: 0.209 - ETA: 2s - loss: 0.2091 - accuracy:  - ETA: 0s - loss: 0.2089 -  - ETA: 0s - loss: 0.2089 - accuracy: 0. - ETA: 0s - loss: 0.2089 - ac\n"
     ]
    },
    {
     "data": {
      "text/plain": [
       "[0.20884637534618378, 0.9554836750030518]"
      ]
     },
     "execution_count": 24,
     "metadata": {},
     "output_type": "execute_result"
    }
   ],
   "source": [
    "model.evaluate(X_test, y_test)"
   ]
  },
  {
   "cell_type": "code",
   "execution_count": 25,
   "id": "14fb828d",
   "metadata": {},
   "outputs": [
    {
     "data": {
      "text/plain": [
       "array([[0.0000000e+00],\n",
       "       [5.5467353e-05],\n",
       "       [8.2137334e-01],\n",
       "       [7.7639550e-02],\n",
       "       [8.2137334e-01]], dtype=float32)"
      ]
     },
     "execution_count": 25,
     "metadata": {},
     "output_type": "execute_result"
    }
   ],
   "source": [
    "yp = model.predict(X_test)\n",
    "yp[:5]"
   ]
  },
  {
   "cell_type": "code",
   "execution_count": 26,
   "id": "dbfce673",
   "metadata": {},
   "outputs": [],
   "source": [
    "y_pred = []\n",
    "for element in yp:\n",
    "    if element > 0.5:\n",
    "        y_pred.append(1)\n",
    "    else:\n",
    "        y_pred.append(0)"
   ]
  },
  {
   "cell_type": "code",
   "execution_count": 27,
   "id": "6c154799",
   "metadata": {},
   "outputs": [
    {
     "data": {
      "text/plain": [
       "[0, 0, 1, 0, 1, 0, 1, 0, 1, 1]"
      ]
     },
     "execution_count": 27,
     "metadata": {},
     "output_type": "execute_result"
    }
   ],
   "source": [
    "y_pred[:10]"
   ]
  },
  {
   "cell_type": "code",
   "execution_count": 28,
   "id": "5c822f46",
   "metadata": {},
   "outputs": [
    {
     "data": {
      "text/plain": [
       "4042811     0\n",
       "313125      0\n",
       "10357520    1\n",
       "2759331     0\n",
       "6524783     1\n",
       "2356117     0\n",
       "11516568    1\n",
       "2626952     0\n",
       "7216808     1\n",
       "6410010     1\n",
       "Name: isFraud, dtype: int64"
      ]
     },
     "execution_count": 28,
     "metadata": {},
     "output_type": "execute_result"
    }
   ],
   "source": [
    "y_test[:10]"
   ]
  },
  {
   "cell_type": "code",
   "execution_count": 29,
   "id": "cb011fe8",
   "metadata": {},
   "outputs": [
    {
     "name": "stdout",
     "output_type": "stream",
     "text": [
      "              precision    recall  f1-score   support\n",
      "\n",
      "           0       0.98      0.93      0.95   1270882\n",
      "           1       0.94      0.98      0.96   1270881\n",
      "\n",
      "    accuracy                           0.96   2541763\n",
      "   macro avg       0.96      0.96      0.96   2541763\n",
      "weighted avg       0.96      0.96      0.96   2541763\n",
      "\n"
     ]
    }
   ],
   "source": [
    "from sklearn.metrics import confusion_matrix , classification_report\n",
    "\n",
    "print(classification_report(y_test,y_pred))"
   ]
  },
  {
   "cell_type": "code",
   "execution_count": 30,
   "id": "ad1b732c",
   "metadata": {},
   "outputs": [
    {
     "data": {
      "text/plain": [
       "Text(69.0, 0.5, 'Truth')"
      ]
     },
     "execution_count": 30,
     "metadata": {},
     "output_type": "execute_result"
    },
    {
     "data": {
      "image/png": "[encoded data removed]",
      "text/plain": [
       "<Figure size 720x504 with 2 Axes>"
      ]
     },
     "metadata": {
      "needs_background": "light"
     },
     "output_type": "display_data"
    }
   ],
   "source": [
    "import seaborn as sn\n",
    "cm = tf.math.confusion_matrix(labels=y_test,predictions=y_pred)\n",
    "\n",
    "plt.figure(figsize = (10,7))\n",
    "sn.heatmap(cm, annot=True, fmt='d')\n",
    "plt.xlabel('Predicted')\n",
    "plt.ylabel('Truth')"
   ]
  },
  {
   "cell_type": "code",
   "execution_count": 31,
   "id": "4a98b6e4",
   "metadata": {},
   "outputs": [
    {
     "data": {
      "text/plain": [
       "[1, 1, 1, 1, 0, 0, 0, 0, 1, 1]"
      ]
     },
     "execution_count": 31,
     "metadata": {},
     "output_type": "execute_result"
    }
   ],
   "source": [
    "y_pred[-10:]"
   ]
  },
  {
   "cell_type": "code",
   "execution_count": 32,
   "id": "f998e22a",
   "metadata": {},
   "outputs": [
    {
     "data": {
      "text/plain": [
       "9354359     1\n",
       "7431018     1\n",
       "173729      0\n",
       "11523364    1\n",
       "5847346     0\n",
       "3492354     0\n",
       "3796441     0\n",
       "1756927     0\n",
       "8098484     1\n",
       "6920147     1\n",
       "Name: isFraud, dtype: int64"
      ]
     },
     "execution_count": 32,
     "metadata": {},
     "output_type": "execute_result"
    }
   ],
   "source": [
    "y_test[-10:]"
   ]
  },
  {
   "cell_type": "code",
   "execution_count": null,
   "id": "fdfd1e12",
   "metadata": {},
   "outputs": [],
   "source": []
  }
 ],
 "metadata": {
  "kernelspec": {
   "display_name": "Python 3",
   "language": "python",
   "name": "python3"
  },
  "language_info": {
   "codemirror_mode": {
    "name": "ipython",
    "version": 3
   },
   "file_extension": ".py",
   "mimetype": "text/x-python",
   "name": "python",
   "nbconvert_exporter": "python",
   "pygments_lexer": "ipython3",
   "version": "3.6.5"
  }
 },
 "nbformat": 4,
 "nbformat_minor": 5
}
