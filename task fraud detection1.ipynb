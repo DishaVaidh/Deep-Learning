{
 "cells": [
  {
   "cell_type": "markdown",
   "id": "0849279d",
   "metadata": {},
   "source": [
    "# Importing necessary libraries"
   ]
  },
  {
   "cell_type": "code",
   "execution_count": 1,
   "id": "23e0f0ec",
   "metadata": {},
   "outputs": [],
   "source": [
    "import numpy as np\n",
    "import pandas as pd\n",
    "import matplotlib.pyplot as plt\n",
    "import seaborn as sb\n",
    "df=pd.read_csv(\"fraud.csv\")"
   ]
  },
  {
   "cell_type": "code",
   "execution_count": 2,
   "id": "6070e34d",
   "metadata": {
    "scrolled": true
   },
   "outputs": [
    {
     "data": {
      "text/html": [
       "<div>\n",
       "<style scoped>\n",
       "    .dataframe tbody tr th:only-of-type {\n",
       "        vertical-align: middle;\n",
       "    }\n",
       "\n",
       "    .dataframe tbody tr th {\n",
       "        vertical-align: top;\n",
       "    }\n",
       "\n",
       "    .dataframe thead th {\n",
       "        text-align: right;\n",
       "    }\n",
       "</style>\n",
       "<table border=\"1\" class=\"dataframe\">\n",
       "  <thead>\n",
       "    <tr style=\"text-align: right;\">\n",
       "      <th></th>\n",
       "      <th>step</th>\n",
       "      <th>type</th>\n",
       "      <th>amount</th>\n",
       "      <th>nameOrig</th>\n",
       "      <th>oldbalanceOrg</th>\n",
       "      <th>newbalanceOrig</th>\n",
       "      <th>nameDest</th>\n",
       "      <th>oldbalanceDest</th>\n",
       "      <th>newbalanceDest</th>\n",
       "      <th>isFraud</th>\n",
       "      <th>isFlaggedFraud</th>\n",
       "    </tr>\n",
       "  </thead>\n",
       "  <tbody>\n",
       "    <tr>\n",
       "      <th>3739915</th>\n",
       "      <td>278</td>\n",
       "      <td>CASH_IN</td>\n",
       "      <td>51505.68</td>\n",
       "      <td>C2125882552</td>\n",
       "      <td>4553531.14</td>\n",
       "      <td>4605036.82</td>\n",
       "      <td>C1857547706</td>\n",
       "      <td>59001.51</td>\n",
       "      <td>7495.83</td>\n",
       "      <td>0</td>\n",
       "      <td>0</td>\n",
       "    </tr>\n",
       "    <tr>\n",
       "      <th>6038098</th>\n",
       "      <td>478</td>\n",
       "      <td>PAYMENT</td>\n",
       "      <td>10509.46</td>\n",
       "      <td>C506607816</td>\n",
       "      <td>230321.00</td>\n",
       "      <td>219811.54</td>\n",
       "      <td>M1212386358</td>\n",
       "      <td>0.00</td>\n",
       "      <td>0.00</td>\n",
       "      <td>0</td>\n",
       "      <td>0</td>\n",
       "    </tr>\n",
       "    <tr>\n",
       "      <th>1440690</th>\n",
       "      <td>140</td>\n",
       "      <td>PAYMENT</td>\n",
       "      <td>6906.34</td>\n",
       "      <td>C2041709017</td>\n",
       "      <td>153280.00</td>\n",
       "      <td>146373.66</td>\n",
       "      <td>M997870578</td>\n",
       "      <td>0.00</td>\n",
       "      <td>0.00</td>\n",
       "      <td>0</td>\n",
       "      <td>0</td>\n",
       "    </tr>\n",
       "    <tr>\n",
       "      <th>1161387</th>\n",
       "      <td>131</td>\n",
       "      <td>TRANSFER</td>\n",
       "      <td>135093.41</td>\n",
       "      <td>C1385696597</td>\n",
       "      <td>0.00</td>\n",
       "      <td>0.00</td>\n",
       "      <td>C54617902</td>\n",
       "      <td>8446179.65</td>\n",
       "      <td>8581273.05</td>\n",
       "      <td>0</td>\n",
       "      <td>0</td>\n",
       "    </tr>\n",
       "    <tr>\n",
       "      <th>2849129</th>\n",
       "      <td>227</td>\n",
       "      <td>CASH_OUT</td>\n",
       "      <td>50164.83</td>\n",
       "      <td>C447270617</td>\n",
       "      <td>0.00</td>\n",
       "      <td>0.00</td>\n",
       "      <td>C1700310826</td>\n",
       "      <td>160196.56</td>\n",
       "      <td>210361.39</td>\n",
       "      <td>0</td>\n",
       "      <td>0</td>\n",
       "    </tr>\n",
       "  </tbody>\n",
       "</table>\n",
       "</div>"
      ],
      "text/plain": [
       "         step      type     amount     nameOrig  oldbalanceOrg  \\\n",
       "3739915   278   CASH_IN   51505.68  C2125882552     4553531.14   \n",
       "6038098   478   PAYMENT   10509.46   C506607816      230321.00   \n",
       "1440690   140   PAYMENT    6906.34  C2041709017      153280.00   \n",
       "1161387   131  TRANSFER  135093.41  C1385696597           0.00   \n",
       "2849129   227  CASH_OUT   50164.83   C447270617           0.00   \n",
       "\n",
       "         newbalanceOrig     nameDest  oldbalanceDest  newbalanceDest  isFraud  \\\n",
       "3739915      4605036.82  C1857547706        59001.51         7495.83        0   \n",
       "6038098       219811.54  M1212386358            0.00            0.00        0   \n",
       "1440690       146373.66   M997870578            0.00            0.00        0   \n",
       "1161387            0.00    C54617902      8446179.65      8581273.05        0   \n",
       "2849129            0.00  C1700310826       160196.56       210361.39        0   \n",
       "\n",
       "         isFlaggedFraud  \n",
       "3739915               0  \n",
       "6038098               0  \n",
       "1440690               0  \n",
       "1161387               0  \n",
       "2849129               0  "
      ]
     },
     "execution_count": 2,
     "metadata": {},
     "output_type": "execute_result"
    }
   ],
   "source": [
    "df.sample(5)"
   ]
  },
  {
   "cell_type": "markdown",
   "id": "48ecbbac",
   "metadata": {},
   "source": [
    "# Q1. Data cleaning including missing values, outliers and multi-collinearity."
   ]
  },
  {
   "cell_type": "code",
   "execution_count": 3,
   "id": "4dabeb9c",
   "metadata": {
    "scrolled": true
   },
   "outputs": [
    {
     "data": {
      "text/plain": [
       "array([0, 1], dtype=int64)"
      ]
     },
     "execution_count": 3,
     "metadata": {},
     "output_type": "execute_result"
    }
   ],
   "source": [
    "df['isFraud'].unique()"
   ]
  },
  {
   "cell_type": "code",
   "execution_count": 4,
   "id": "53e30344",
   "metadata": {
    "scrolled": true
   },
   "outputs": [
    {
     "data": {
      "text/plain": [
       "0    6354407\n",
       "1       8213\n",
       "Name: isFraud, dtype: int64"
      ]
     },
     "execution_count": 4,
     "metadata": {},
     "output_type": "execute_result"
    }
   ],
   "source": [
    "df['isFraud'].value_counts()"
   ]
  },
  {
   "cell_type": "code",
   "execution_count": 5,
   "id": "b377cabc",
   "metadata": {},
   "outputs": [
    {
     "data": {
      "text/html": [
       "<div>\n",
       "<style scoped>\n",
       "    .dataframe tbody tr th:only-of-type {\n",
       "        vertical-align: middle;\n",
       "    }\n",
       "\n",
       "    .dataframe tbody tr th {\n",
       "        vertical-align: top;\n",
       "    }\n",
       "\n",
       "    .dataframe thead th {\n",
       "        text-align: right;\n",
       "    }\n",
       "</style>\n",
       "<table border=\"1\" class=\"dataframe\">\n",
       "  <thead>\n",
       "    <tr style=\"text-align: right;\">\n",
       "      <th></th>\n",
       "      <th>step</th>\n",
       "      <th>type</th>\n",
       "      <th>amount</th>\n",
       "      <th>nameOrig</th>\n",
       "      <th>oldbalanceOrg</th>\n",
       "      <th>newbalanceOrig</th>\n",
       "      <th>nameDest</th>\n",
       "      <th>oldbalanceDest</th>\n",
       "      <th>newbalanceDest</th>\n",
       "      <th>isFraud</th>\n",
       "      <th>isFlaggedFraud</th>\n",
       "    </tr>\n",
       "  </thead>\n",
       "  <tbody>\n",
       "    <tr>\n",
       "      <th>596644</th>\n",
       "      <td>33</td>\n",
       "      <td>CASH_IN</td>\n",
       "      <td>237689.41</td>\n",
       "      <td>C945101377</td>\n",
       "      <td>13333957.64</td>\n",
       "      <td>13571647.05</td>\n",
       "      <td>C1518593791</td>\n",
       "      <td>277164.40</td>\n",
       "      <td>39474.99</td>\n",
       "      <td>0</td>\n",
       "      <td>0</td>\n",
       "    </tr>\n",
       "    <tr>\n",
       "      <th>5054013</th>\n",
       "      <td>354</td>\n",
       "      <td>CASH_IN</td>\n",
       "      <td>68467.11</td>\n",
       "      <td>C207193646</td>\n",
       "      <td>5003.00</td>\n",
       "      <td>73470.11</td>\n",
       "      <td>C187697734</td>\n",
       "      <td>296265.29</td>\n",
       "      <td>227798.19</td>\n",
       "      <td>0</td>\n",
       "      <td>0</td>\n",
       "    </tr>\n",
       "    <tr>\n",
       "      <th>5094118</th>\n",
       "      <td>355</td>\n",
       "      <td>PAYMENT</td>\n",
       "      <td>12499.63</td>\n",
       "      <td>C760628398</td>\n",
       "      <td>0.00</td>\n",
       "      <td>0.00</td>\n",
       "      <td>M1213124679</td>\n",
       "      <td>0.00</td>\n",
       "      <td>0.00</td>\n",
       "      <td>0</td>\n",
       "      <td>0</td>\n",
       "    </tr>\n",
       "    <tr>\n",
       "      <th>5840763</th>\n",
       "      <td>402</td>\n",
       "      <td>PAYMENT</td>\n",
       "      <td>25780.02</td>\n",
       "      <td>C1725232751</td>\n",
       "      <td>0.00</td>\n",
       "      <td>0.00</td>\n",
       "      <td>M1952003893</td>\n",
       "      <td>0.00</td>\n",
       "      <td>0.00</td>\n",
       "      <td>0</td>\n",
       "      <td>0</td>\n",
       "    </tr>\n",
       "    <tr>\n",
       "      <th>3872581</th>\n",
       "      <td>283</td>\n",
       "      <td>CASH_OUT</td>\n",
       "      <td>108584.14</td>\n",
       "      <td>C1005201785</td>\n",
       "      <td>228886.00</td>\n",
       "      <td>120301.86</td>\n",
       "      <td>C1389454341</td>\n",
       "      <td>99633.78</td>\n",
       "      <td>208217.93</td>\n",
       "      <td>0</td>\n",
       "      <td>0</td>\n",
       "    </tr>\n",
       "    <tr>\n",
       "      <th>4941976</th>\n",
       "      <td>350</td>\n",
       "      <td>CASH_OUT</td>\n",
       "      <td>145395.15</td>\n",
       "      <td>C747278269</td>\n",
       "      <td>82563.00</td>\n",
       "      <td>0.00</td>\n",
       "      <td>C1204015413</td>\n",
       "      <td>287120.22</td>\n",
       "      <td>432515.37</td>\n",
       "      <td>0</td>\n",
       "      <td>0</td>\n",
       "    </tr>\n",
       "    <tr>\n",
       "      <th>3639695</th>\n",
       "      <td>275</td>\n",
       "      <td>PAYMENT</td>\n",
       "      <td>16140.07</td>\n",
       "      <td>C1604824219</td>\n",
       "      <td>0.00</td>\n",
       "      <td>0.00</td>\n",
       "      <td>M1452815378</td>\n",
       "      <td>0.00</td>\n",
       "      <td>0.00</td>\n",
       "      <td>0</td>\n",
       "      <td>0</td>\n",
       "    </tr>\n",
       "    <tr>\n",
       "      <th>1646125</th>\n",
       "      <td>157</td>\n",
       "      <td>PAYMENT</td>\n",
       "      <td>26813.63</td>\n",
       "      <td>C1769492015</td>\n",
       "      <td>941.00</td>\n",
       "      <td>0.00</td>\n",
       "      <td>M856679271</td>\n",
       "      <td>0.00</td>\n",
       "      <td>0.00</td>\n",
       "      <td>0</td>\n",
       "      <td>0</td>\n",
       "    </tr>\n",
       "    <tr>\n",
       "      <th>1130914</th>\n",
       "      <td>131</td>\n",
       "      <td>CASH_OUT</td>\n",
       "      <td>416460.91</td>\n",
       "      <td>C1813971031</td>\n",
       "      <td>15621.00</td>\n",
       "      <td>0.00</td>\n",
       "      <td>C1374400803</td>\n",
       "      <td>171926.62</td>\n",
       "      <td>588387.52</td>\n",
       "      <td>0</td>\n",
       "      <td>0</td>\n",
       "    </tr>\n",
       "    <tr>\n",
       "      <th>3963617</th>\n",
       "      <td>297</td>\n",
       "      <td>CASH_OUT</td>\n",
       "      <td>187752.78</td>\n",
       "      <td>C1523352226</td>\n",
       "      <td>100313.00</td>\n",
       "      <td>0.00</td>\n",
       "      <td>C1518402355</td>\n",
       "      <td>27679.22</td>\n",
       "      <td>215432.00</td>\n",
       "      <td>0</td>\n",
       "      <td>0</td>\n",
       "    </tr>\n",
       "  </tbody>\n",
       "</table>\n",
       "</div>"
      ],
      "text/plain": [
       "         step      type     amount     nameOrig  oldbalanceOrg  \\\n",
       "596644     33   CASH_IN  237689.41   C945101377    13333957.64   \n",
       "5054013   354   CASH_IN   68467.11   C207193646        5003.00   \n",
       "5094118   355   PAYMENT   12499.63   C760628398           0.00   \n",
       "5840763   402   PAYMENT   25780.02  C1725232751           0.00   \n",
       "3872581   283  CASH_OUT  108584.14  C1005201785      228886.00   \n",
       "4941976   350  CASH_OUT  145395.15   C747278269       82563.00   \n",
       "3639695   275   PAYMENT   16140.07  C1604824219           0.00   \n",
       "1646125   157   PAYMENT   26813.63  C1769492015         941.00   \n",
       "1130914   131  CASH_OUT  416460.91  C1813971031       15621.00   \n",
       "3963617   297  CASH_OUT  187752.78  C1523352226      100313.00   \n",
       "\n",
       "         newbalanceOrig     nameDest  oldbalanceDest  newbalanceDest  isFraud  \\\n",
       "596644      13571647.05  C1518593791       277164.40        39474.99        0   \n",
       "5054013        73470.11   C187697734       296265.29       227798.19        0   \n",
       "5094118            0.00  M1213124679            0.00            0.00        0   \n",
       "5840763            0.00  M1952003893            0.00            0.00        0   \n",
       "3872581       120301.86  C1389454341        99633.78       208217.93        0   \n",
       "4941976            0.00  C1204015413       287120.22       432515.37        0   \n",
       "3639695            0.00  M1452815378            0.00            0.00        0   \n",
       "1646125            0.00   M856679271            0.00            0.00        0   \n",
       "1130914            0.00  C1374400803       171926.62       588387.52        0   \n",
       "3963617            0.00  C1518402355        27679.22       215432.00        0   \n",
       "\n",
       "         isFlaggedFraud  \n",
       "596644                0  \n",
       "5054013               0  \n",
       "5094118               0  \n",
       "5840763               0  \n",
       "3872581               0  \n",
       "4941976               0  \n",
       "3639695               0  \n",
       "1646125               0  \n",
       "1130914               0  \n",
       "3963617               0  "
      ]
     },
     "execution_count": 5,
     "metadata": {},
     "output_type": "execute_result"
    }
   ],
   "source": [
    "df[df['isFraud']==0].sample(10)"
   ]
  },
  {
   "cell_type": "code",
   "execution_count": 6,
   "id": "42f91aa6",
   "metadata": {},
   "outputs": [
    {
     "data": {
      "text/html": [
       "<div>\n",
       "<style scoped>\n",
       "    .dataframe tbody tr th:only-of-type {\n",
       "        vertical-align: middle;\n",
       "    }\n",
       "\n",
       "    .dataframe tbody tr th {\n",
       "        vertical-align: top;\n",
       "    }\n",
       "\n",
       "    .dataframe thead th {\n",
       "        text-align: right;\n",
       "    }\n",
       "</style>\n",
       "<table border=\"1\" class=\"dataframe\">\n",
       "  <thead>\n",
       "    <tr style=\"text-align: right;\">\n",
       "      <th></th>\n",
       "      <th>step</th>\n",
       "      <th>type</th>\n",
       "      <th>amount</th>\n",
       "      <th>nameOrig</th>\n",
       "      <th>oldbalanceOrg</th>\n",
       "      <th>newbalanceOrig</th>\n",
       "      <th>nameDest</th>\n",
       "      <th>oldbalanceDest</th>\n",
       "      <th>newbalanceDest</th>\n",
       "      <th>isFraud</th>\n",
       "      <th>isFlaggedFraud</th>\n",
       "    </tr>\n",
       "  </thead>\n",
       "  <tbody>\n",
       "    <tr>\n",
       "      <th>1068588</th>\n",
       "      <td>120</td>\n",
       "      <td>CASH_OUT</td>\n",
       "      <td>746518.21</td>\n",
       "      <td>C321390440</td>\n",
       "      <td>746518.21</td>\n",
       "      <td>0.0</td>\n",
       "      <td>C467067146</td>\n",
       "      <td>348702.45</td>\n",
       "      <td>1095220.66</td>\n",
       "      <td>1</td>\n",
       "      <td>0</td>\n",
       "    </tr>\n",
       "    <tr>\n",
       "      <th>6281504</th>\n",
       "      <td>648</td>\n",
       "      <td>TRANSFER</td>\n",
       "      <td>398045.73</td>\n",
       "      <td>C1389887414</td>\n",
       "      <td>398045.73</td>\n",
       "      <td>0.0</td>\n",
       "      <td>C452478400</td>\n",
       "      <td>0.00</td>\n",
       "      <td>0.00</td>\n",
       "      <td>1</td>\n",
       "      <td>0</td>\n",
       "    </tr>\n",
       "    <tr>\n",
       "      <th>6201210</th>\n",
       "      <td>577</td>\n",
       "      <td>CASH_OUT</td>\n",
       "      <td>681525.62</td>\n",
       "      <td>C343064779</td>\n",
       "      <td>681525.62</td>\n",
       "      <td>0.0</td>\n",
       "      <td>C851594091</td>\n",
       "      <td>2250319.57</td>\n",
       "      <td>2931845.19</td>\n",
       "      <td>1</td>\n",
       "      <td>0</td>\n",
       "    </tr>\n",
       "    <tr>\n",
       "      <th>6283819</th>\n",
       "      <td>658</td>\n",
       "      <td>CASH_OUT</td>\n",
       "      <td>120582.86</td>\n",
       "      <td>C247557474</td>\n",
       "      <td>120582.86</td>\n",
       "      <td>0.0</td>\n",
       "      <td>C1026686567</td>\n",
       "      <td>322996.71</td>\n",
       "      <td>443579.57</td>\n",
       "      <td>1</td>\n",
       "      <td>0</td>\n",
       "    </tr>\n",
       "    <tr>\n",
       "      <th>6168710</th>\n",
       "      <td>560</td>\n",
       "      <td>CASH_OUT</td>\n",
       "      <td>357882.83</td>\n",
       "      <td>C151669603</td>\n",
       "      <td>357882.83</td>\n",
       "      <td>0.0</td>\n",
       "      <td>C1152228208</td>\n",
       "      <td>901329.73</td>\n",
       "      <td>1259212.55</td>\n",
       "      <td>1</td>\n",
       "      <td>0</td>\n",
       "    </tr>\n",
       "    <tr>\n",
       "      <th>1852939</th>\n",
       "      <td>164</td>\n",
       "      <td>CASH_OUT</td>\n",
       "      <td>276042.59</td>\n",
       "      <td>C2133722439</td>\n",
       "      <td>276042.59</td>\n",
       "      <td>0.0</td>\n",
       "      <td>C2121024241</td>\n",
       "      <td>734229.64</td>\n",
       "      <td>1010272.23</td>\n",
       "      <td>1</td>\n",
       "      <td>0</td>\n",
       "    </tr>\n",
       "    <tr>\n",
       "      <th>5128584</th>\n",
       "      <td>356</td>\n",
       "      <td>TRANSFER</td>\n",
       "      <td>5952739.30</td>\n",
       "      <td>C1569009550</td>\n",
       "      <td>5952739.30</td>\n",
       "      <td>0.0</td>\n",
       "      <td>C1429463996</td>\n",
       "      <td>0.00</td>\n",
       "      <td>0.00</td>\n",
       "      <td>1</td>\n",
       "      <td>0</td>\n",
       "    </tr>\n",
       "    <tr>\n",
       "      <th>90070</th>\n",
       "      <td>10</td>\n",
       "      <td>TRANSFER</td>\n",
       "      <td>93810.76</td>\n",
       "      <td>C481501970</td>\n",
       "      <td>93810.76</td>\n",
       "      <td>0.0</td>\n",
       "      <td>C1262577882</td>\n",
       "      <td>0.00</td>\n",
       "      <td>0.00</td>\n",
       "      <td>1</td>\n",
       "      <td>0</td>\n",
       "    </tr>\n",
       "    <tr>\n",
       "      <th>5188055</th>\n",
       "      <td>367</td>\n",
       "      <td>CASH_OUT</td>\n",
       "      <td>362672.57</td>\n",
       "      <td>C1069202179</td>\n",
       "      <td>362672.57</td>\n",
       "      <td>0.0</td>\n",
       "      <td>C1808434552</td>\n",
       "      <td>3.51</td>\n",
       "      <td>362676.08</td>\n",
       "      <td>1</td>\n",
       "      <td>0</td>\n",
       "    </tr>\n",
       "    <tr>\n",
       "      <th>1059565</th>\n",
       "      <td>105</td>\n",
       "      <td>CASH_OUT</td>\n",
       "      <td>539087.79</td>\n",
       "      <td>C1597812887</td>\n",
       "      <td>539087.79</td>\n",
       "      <td>0.0</td>\n",
       "      <td>C1452774204</td>\n",
       "      <td>44825.34</td>\n",
       "      <td>583913.14</td>\n",
       "      <td>1</td>\n",
       "      <td>0</td>\n",
       "    </tr>\n",
       "  </tbody>\n",
       "</table>\n",
       "</div>"
      ],
      "text/plain": [
       "         step      type      amount     nameOrig  oldbalanceOrg  \\\n",
       "1068588   120  CASH_OUT   746518.21   C321390440      746518.21   \n",
       "6281504   648  TRANSFER   398045.73  C1389887414      398045.73   \n",
       "6201210   577  CASH_OUT   681525.62   C343064779      681525.62   \n",
       "6283819   658  CASH_OUT   120582.86   C247557474      120582.86   \n",
       "6168710   560  CASH_OUT   357882.83   C151669603      357882.83   \n",
       "1852939   164  CASH_OUT   276042.59  C2133722439      276042.59   \n",
       "5128584   356  TRANSFER  5952739.30  C1569009550     5952739.30   \n",
       "90070      10  TRANSFER    93810.76   C481501970       93810.76   \n",
       "5188055   367  CASH_OUT   362672.57  C1069202179      362672.57   \n",
       "1059565   105  CASH_OUT   539087.79  C1597812887      539087.79   \n",
       "\n",
       "         newbalanceOrig     nameDest  oldbalanceDest  newbalanceDest  isFraud  \\\n",
       "1068588             0.0   C467067146       348702.45      1095220.66        1   \n",
       "6281504             0.0   C452478400            0.00            0.00        1   \n",
       "6201210             0.0   C851594091      2250319.57      2931845.19        1   \n",
       "6283819             0.0  C1026686567       322996.71       443579.57        1   \n",
       "6168710             0.0  C1152228208       901329.73      1259212.55        1   \n",
       "1852939             0.0  C2121024241       734229.64      1010272.23        1   \n",
       "5128584             0.0  C1429463996            0.00            0.00        1   \n",
       "90070               0.0  C1262577882            0.00            0.00        1   \n",
       "5188055             0.0  C1808434552            3.51       362676.08        1   \n",
       "1059565             0.0  C1452774204        44825.34       583913.14        1   \n",
       "\n",
       "         isFlaggedFraud  \n",
       "1068588               0  \n",
       "6281504               0  \n",
       "6201210               0  \n",
       "6283819               0  \n",
       "6168710               0  \n",
       "1852939               0  \n",
       "5128584               0  \n",
       "90070                 0  \n",
       "5188055               0  \n",
       "1059565               0  "
      ]
     },
     "execution_count": 6,
     "metadata": {},
     "output_type": "execute_result"
    }
   ],
   "source": [
    "df[df['isFraud']==1].sample(10)"
   ]
  },
  {
   "cell_type": "code",
   "execution_count": 7,
   "id": "b37f576d",
   "metadata": {},
   "outputs": [
    {
     "name": "stdout",
     "output_type": "stream",
     "text": [
      "<class 'pandas.core.frame.DataFrame'>\n",
      "RangeIndex: 6362620 entries, 0 to 6362619\n",
      "Data columns (total 11 columns):\n",
      " #   Column          Dtype  \n",
      "---  ------          -----  \n",
      " 0   step            int64  \n",
      " 1   type            object \n",
      " 2   amount          float64\n",
      " 3   nameOrig        object \n",
      " 4   oldbalanceOrg   float64\n",
      " 5   newbalanceOrig  float64\n",
      " 6   nameDest        object \n",
      " 7   oldbalanceDest  float64\n",
      " 8   newbalanceDest  float64\n",
      " 9   isFraud         int64  \n",
      " 10  isFlaggedFraud  int64  \n",
      "dtypes: float64(5), int64(3), object(3)\n",
      "memory usage: 534.0+ MB\n"
     ]
    }
   ],
   "source": [
    "df.info()"
   ]
  },
  {
   "cell_type": "code",
   "execution_count": 8,
   "id": "396b5820",
   "metadata": {
    "scrolled": true
   },
   "outputs": [
    {
     "data": {
      "text/plain": [
       "step              0\n",
       "type              0\n",
       "amount            0\n",
       "nameOrig          0\n",
       "oldbalanceOrg     0\n",
       "newbalanceOrig    0\n",
       "nameDest          0\n",
       "oldbalanceDest    0\n",
       "newbalanceDest    0\n",
       "isFraud           0\n",
       "isFlaggedFraud    0\n",
       "dtype: int64"
      ]
     },
     "execution_count": 8,
     "metadata": {},
     "output_type": "execute_result"
    }
   ],
   "source": [
    "df.isna().sum()"
   ]
  },
  {
   "cell_type": "markdown",
   "id": "f6380e55",
   "metadata": {},
   "source": [
    "### Visualise our dataset on the basis of type"
   ]
  },
  {
   "cell_type": "code",
   "execution_count": 9,
   "id": "5020feed",
   "metadata": {},
   "outputs": [
    {
     "data": {
      "text/plain": [
       "<matplotlib.legend.Legend at 0x1e75dceb2e8>"
      ]
     },
     "execution_count": 9,
     "metadata": {},
     "output_type": "execute_result"
    },
    {
     "data": {
      "image/png": "[encoded data removed]",
      "text/plain": [
       "<Figure size 432x288 with 1 Axes>"
      ]
     },
     "metadata": {
      "needs_background": "light"
     },
     "output_type": "display_data"
    }
   ],
   "source": [
    "type_fraud_no = df[df.isFraud==0].type\n",
    "type_fraud_yes = df[df.isFraud==1].type\n",
    "\n",
    "plt.xlabel(\"type\")\n",
    "plt.ylabel(\"Number Of Customers\")\n",
    "plt.title(\"Fraud detection Visualiztion\")\n",
    "\n",
    "\n",
    "plt.hist([type_fraud_yes, type_fraud_no], rwidth=0.95, color=['green','red'],label=['Fraud=Yes','Fraud=No'])\n",
    "plt.legend()"
   ]
  },
  {
   "cell_type": "markdown",
   "id": "a8484729",
   "metadata": {},
   "source": [
    "### Drop unnecessary columns"
   ]
  },
  {
   "cell_type": "code",
   "execution_count": 10,
   "id": "4d9e2a9d",
   "metadata": {},
   "outputs": [],
   "source": [
    "del df['nameOrig']              \n",
    "del df ['nameDest'] "
   ]
  },
  {
   "cell_type": "markdown",
   "id": "a7435911",
   "metadata": {},
   "source": [
    "### Convert column type to numeric"
   ]
  },
  {
   "cell_type": "code",
   "execution_count": 11,
   "id": "cb57c100",
   "metadata": {},
   "outputs": [
    {
     "data": {
      "text/html": [
       "<div>\n",
       "<style scoped>\n",
       "    .dataframe tbody tr th:only-of-type {\n",
       "        vertical-align: middle;\n",
       "    }\n",
       "\n",
       "    .dataframe tbody tr th {\n",
       "        vertical-align: top;\n",
       "    }\n",
       "\n",
       "    .dataframe thead th {\n",
       "        text-align: right;\n",
       "    }\n",
       "</style>\n",
       "<table border=\"1\" class=\"dataframe\">\n",
       "  <thead>\n",
       "    <tr style=\"text-align: right;\">\n",
       "      <th></th>\n",
       "      <th>step</th>\n",
       "      <th>type</th>\n",
       "      <th>amount</th>\n",
       "      <th>oldbalanceOrg</th>\n",
       "      <th>newbalanceOrig</th>\n",
       "      <th>oldbalanceDest</th>\n",
       "      <th>newbalanceDest</th>\n",
       "      <th>isFraud</th>\n",
       "      <th>isFlaggedFraud</th>\n",
       "    </tr>\n",
       "  </thead>\n",
       "  <tbody>\n",
       "    <tr>\n",
       "      <th>0</th>\n",
       "      <td>1</td>\n",
       "      <td>3</td>\n",
       "      <td>9839.64</td>\n",
       "      <td>170136.00</td>\n",
       "      <td>160296.36</td>\n",
       "      <td>0.00</td>\n",
       "      <td>0.00</td>\n",
       "      <td>0</td>\n",
       "      <td>0</td>\n",
       "    </tr>\n",
       "    <tr>\n",
       "      <th>1</th>\n",
       "      <td>1</td>\n",
       "      <td>3</td>\n",
       "      <td>1864.28</td>\n",
       "      <td>21249.00</td>\n",
       "      <td>19384.72</td>\n",
       "      <td>0.00</td>\n",
       "      <td>0.00</td>\n",
       "      <td>0</td>\n",
       "      <td>0</td>\n",
       "    </tr>\n",
       "    <tr>\n",
       "      <th>2</th>\n",
       "      <td>1</td>\n",
       "      <td>4</td>\n",
       "      <td>181.00</td>\n",
       "      <td>181.00</td>\n",
       "      <td>0.00</td>\n",
       "      <td>0.00</td>\n",
       "      <td>0.00</td>\n",
       "      <td>1</td>\n",
       "      <td>0</td>\n",
       "    </tr>\n",
       "    <tr>\n",
       "      <th>3</th>\n",
       "      <td>1</td>\n",
       "      <td>1</td>\n",
       "      <td>181.00</td>\n",
       "      <td>181.00</td>\n",
       "      <td>0.00</td>\n",
       "      <td>21182.00</td>\n",
       "      <td>0.00</td>\n",
       "      <td>1</td>\n",
       "      <td>0</td>\n",
       "    </tr>\n",
       "    <tr>\n",
       "      <th>4</th>\n",
       "      <td>1</td>\n",
       "      <td>3</td>\n",
       "      <td>11668.14</td>\n",
       "      <td>41554.00</td>\n",
       "      <td>29885.86</td>\n",
       "      <td>0.00</td>\n",
       "      <td>0.00</td>\n",
       "      <td>0</td>\n",
       "      <td>0</td>\n",
       "    </tr>\n",
       "    <tr>\n",
       "      <th>...</th>\n",
       "      <td>...</td>\n",
       "      <td>...</td>\n",
       "      <td>...</td>\n",
       "      <td>...</td>\n",
       "      <td>...</td>\n",
       "      <td>...</td>\n",
       "      <td>...</td>\n",
       "      <td>...</td>\n",
       "      <td>...</td>\n",
       "    </tr>\n",
       "    <tr>\n",
       "      <th>6362615</th>\n",
       "      <td>743</td>\n",
       "      <td>1</td>\n",
       "      <td>339682.13</td>\n",
       "      <td>339682.13</td>\n",
       "      <td>0.00</td>\n",
       "      <td>0.00</td>\n",
       "      <td>339682.13</td>\n",
       "      <td>1</td>\n",
       "      <td>0</td>\n",
       "    </tr>\n",
       "    <tr>\n",
       "      <th>6362616</th>\n",
       "      <td>743</td>\n",
       "      <td>4</td>\n",
       "      <td>6311409.28</td>\n",
       "      <td>6311409.28</td>\n",
       "      <td>0.00</td>\n",
       "      <td>0.00</td>\n",
       "      <td>0.00</td>\n",
       "      <td>1</td>\n",
       "      <td>0</td>\n",
       "    </tr>\n",
       "    <tr>\n",
       "      <th>6362617</th>\n",
       "      <td>743</td>\n",
       "      <td>1</td>\n",
       "      <td>6311409.28</td>\n",
       "      <td>6311409.28</td>\n",
       "      <td>0.00</td>\n",
       "      <td>68488.84</td>\n",
       "      <td>6379898.11</td>\n",
       "      <td>1</td>\n",
       "      <td>0</td>\n",
       "    </tr>\n",
       "    <tr>\n",
       "      <th>6362618</th>\n",
       "      <td>743</td>\n",
       "      <td>4</td>\n",
       "      <td>850002.52</td>\n",
       "      <td>850002.52</td>\n",
       "      <td>0.00</td>\n",
       "      <td>0.00</td>\n",
       "      <td>0.00</td>\n",
       "      <td>1</td>\n",
       "      <td>0</td>\n",
       "    </tr>\n",
       "    <tr>\n",
       "      <th>6362619</th>\n",
       "      <td>743</td>\n",
       "      <td>1</td>\n",
       "      <td>850002.52</td>\n",
       "      <td>850002.52</td>\n",
       "      <td>0.00</td>\n",
       "      <td>6510099.11</td>\n",
       "      <td>7360101.63</td>\n",
       "      <td>1</td>\n",
       "      <td>0</td>\n",
       "    </tr>\n",
       "  </tbody>\n",
       "</table>\n",
       "<p>6362620 rows × 9 columns</p>\n",
       "</div>"
      ],
      "text/plain": [
       "         step  type      amount  oldbalanceOrg  newbalanceOrig  \\\n",
       "0           1     3     9839.64      170136.00       160296.36   \n",
       "1           1     3     1864.28       21249.00        19384.72   \n",
       "2           1     4      181.00         181.00            0.00   \n",
       "3           1     1      181.00         181.00            0.00   \n",
       "4           1     3    11668.14       41554.00        29885.86   \n",
       "...       ...   ...         ...            ...             ...   \n",
       "6362615   743     1   339682.13      339682.13            0.00   \n",
       "6362616   743     4  6311409.28     6311409.28            0.00   \n",
       "6362617   743     1  6311409.28     6311409.28            0.00   \n",
       "6362618   743     4   850002.52      850002.52            0.00   \n",
       "6362619   743     1   850002.52      850002.52            0.00   \n",
       "\n",
       "         oldbalanceDest  newbalanceDest  isFraud  isFlaggedFraud  \n",
       "0                  0.00            0.00        0               0  \n",
       "1                  0.00            0.00        0               0  \n",
       "2                  0.00            0.00        1               0  \n",
       "3              21182.00            0.00        1               0  \n",
       "4                  0.00            0.00        0               0  \n",
       "...                 ...             ...      ...             ...  \n",
       "6362615            0.00       339682.13        1               0  \n",
       "6362616            0.00            0.00        1               0  \n",
       "6362617        68488.84      6379898.11        1               0  \n",
       "6362618            0.00            0.00        1               0  \n",
       "6362619      6510099.11      7360101.63        1               0  \n",
       "\n",
       "[6362620 rows x 9 columns]"
      ]
     },
     "execution_count": 11,
     "metadata": {},
     "output_type": "execute_result"
    }
   ],
   "source": [
    "from sklearn.preprocessing import LabelEncoder\n",
    "labelencoder = LabelEncoder()\n",
    "df['type'] = labelencoder.fit_transform(df['type'])\n",
    "df"
   ]
  },
  {
   "cell_type": "code",
   "execution_count": 12,
   "id": "20fae1e5",
   "metadata": {},
   "outputs": [
    {
     "data": {
      "text/plain": [
       "step                int64\n",
       "type                int32\n",
       "amount            float64\n",
       "oldbalanceOrg     float64\n",
       "newbalanceOrig    float64\n",
       "oldbalanceDest    float64\n",
       "newbalanceDest    float64\n",
       "isFraud             int64\n",
       "isFlaggedFraud      int64\n",
       "dtype: object"
      ]
     },
     "execution_count": 12,
     "metadata": {},
     "output_type": "execute_result"
    }
   ],
   "source": [
    "df.dtypes"
   ]
  },
  {
   "cell_type": "markdown",
   "id": "289777b3",
   "metadata": {},
   "source": [
    "### Using smote to handle imbalanced dataset"
   ]
  },
  {
   "cell_type": "code",
   "execution_count": 13,
   "id": "5ac11031",
   "metadata": {},
   "outputs": [
    {
     "data": {
      "text/plain": [
       "0    6354407\n",
       "1       8213\n",
       "Name: isFraud, dtype: int64"
      ]
     },
     "execution_count": 13,
     "metadata": {},
     "output_type": "execute_result"
    }
   ],
   "source": [
    "X = df.drop('isFraud',axis='columns')\n",
    "y = df['isFraud']\n",
    "\n",
    "y.value_counts()"
   ]
  },
  {
   "cell_type": "code",
   "execution_count": 14,
   "id": "bc7591a3",
   "metadata": {},
   "outputs": [
    {
     "name": "stdout",
     "output_type": "stream",
     "text": [
      "Requirement already satisfied: imbalanced-learn in c:\\users\\admin\\appdata\\local\\programs\\python\\python36\\lib\\site-packages\n",
      "Requirement already satisfied: numpy>=1.13.3 in c:\\users\\admin\\appdata\\local\\programs\\python\\python36\\lib\\site-packages (from imbalanced-learn)\n",
      "Requirement already satisfied: scikit-learn>=0.24 in c:\\users\\admin\\appdata\\local\\programs\\python\\python36\\lib\\site-packages (from imbalanced-learn)\n",
      "Requirement already satisfied: scipy>=0.19.1 in c:\\users\\admin\\appdata\\local\\programs\\python\\python36\\lib\\site-packages (from imbalanced-learn)\n",
      "Requirement already satisfied: joblib>=0.11 in c:\\users\\admin\\appdata\\local\\programs\\python\\python36\\lib\\site-packages (from imbalanced-learn)\n",
      "Requirement already satisfied: threadpoolctl>=2.0.0 in c:\\users\\admin\\appdata\\local\\programs\\python\\python36\\lib\\site-packages (from scikit-learn>=0.24->imbalanced-learn)\n"
     ]
    },
    {
     "name": "stderr",
     "output_type": "stream",
     "text": [
      "You are using pip version 9.0.3, however version 21.2.4 is available.\n",
      "You should consider upgrading via the 'python -m pip install --upgrade pip' command.\n"
     ]
    }
   ],
   "source": [
    "!pip install imbalanced-learn"
   ]
  },
  {
   "cell_type": "code",
   "execution_count": 15,
   "id": "726ee9e3",
   "metadata": {},
   "outputs": [
    {
     "data": {
      "text/plain": [
       "1    6354407\n",
       "0    6354407\n",
       "Name: isFraud, dtype: int64"
      ]
     },
     "execution_count": 15,
     "metadata": {},
     "output_type": "execute_result"
    }
   ],
   "source": [
    "from imblearn.over_sampling import SMOTE\n",
    "\n",
    "smote = SMOTE(sampling_strategy='minority')\n",
    "X_sm, y_sm = smote.fit_resample(X, y)\n",
    "\n",
    "y_sm.value_counts()"
   ]
  },
  {
   "cell_type": "code",
   "execution_count": 16,
   "id": "d70ccdcf",
   "metadata": {},
   "outputs": [],
   "source": [
    "from sklearn.model_selection import train_test_split\n",
    "X_train, X_test, y_train, y_test = train_test_split(X_sm, y_sm, test_size=0.2, random_state=15, stratify=y_sm)"
   ]
  },
  {
   "cell_type": "code",
   "execution_count": 17,
   "id": "6964efc3",
   "metadata": {},
   "outputs": [
    {
     "data": {
      "text/plain": [
       "1    5083526\n",
       "0    5083525\n",
       "Name: isFraud, dtype: int64"
      ]
     },
     "execution_count": 17,
     "metadata": {},
     "output_type": "execute_result"
    }
   ],
   "source": [
    "y_train.value_counts()"
   ]
  },
  {
   "cell_type": "code",
   "execution_count": 18,
   "id": "420b2ae6",
   "metadata": {},
   "outputs": [
    {
     "data": {
      "text/plain": [
       "(10167051, 8)"
      ]
     },
     "execution_count": 18,
     "metadata": {},
     "output_type": "execute_result"
    }
   ],
   "source": [
    "X_train.shape"
   ]
  },
  {
   "cell_type": "code",
   "execution_count": 19,
   "id": "570f503a",
   "metadata": {},
   "outputs": [
    {
     "data": {
      "text/plain": [
       "(2541763, 8)"
      ]
     },
     "execution_count": 19,
     "metadata": {},
     "output_type": "execute_result"
    }
   ],
   "source": [
    "X_test.shape"
   ]
  },
  {
   "cell_type": "code",
   "execution_count": 20,
   "id": "aa269f6d",
   "metadata": {
    "scrolled": true
   },
   "outputs": [
    {
     "data": {
      "text/plain": [
       "8"
      ]
     },
     "execution_count": 20,
     "metadata": {},
     "output_type": "execute_result"
    }
   ],
   "source": [
    "len(X_train.columns)"
   ]
  },
  {
   "cell_type": "markdown",
   "id": "c2b14dbc",
   "metadata": {},
   "source": [
    "### Build a model (ANN) in tensorflow/keras"
   ]
  },
  {
   "cell_type": "code",
   "execution_count": 21,
   "id": "928e82ac",
   "metadata": {},
   "outputs": [
    {
     "name": "stdout",
     "output_type": "stream",
     "text": [
      "Epoch 1/20\n",
      "101671/101671 [==============================] - 202s 2ms/step - loss: 101.7378 - accuracy: 0.6840\n",
      "Epoch 2/20\n",
      "101671/101671 [==============================] - 210s 2ms/step - loss: 0.4107 - accuracy: 0.8241\n",
      "Epoch 3/20\n",
      "101671/101671 [==============================] - 256s 3ms/step - loss: 0.4057 - accuracy: 0.8145\n",
      "Epoch 4/20\n",
      "101671/101671 [==============================] - 258s 3ms/step - loss: 0.3592 - accuracy: 0.8484\n",
      "Epoch 5/20\n",
      "101671/101671 [==============================] - 251s 2ms/step - loss: 0.3139 - accuracy: 0.8859\n",
      "Epoch 6/20\n",
      "101671/101671 [==============================] - 259s 3ms/step - loss: 0.3045 - accuracy: 0.8937\n",
      "Epoch 7/20\n",
      "101671/101671 [==============================] - 259s 3ms/step - loss: 0.3201 - accuracy: 0.8979\n",
      "Epoch 8/20\n",
      "101671/101671 [==============================] - 257s 3ms/step - loss: 0.3388 - accuracy: 0.8760\n",
      "Epoch 9/20\n",
      "101671/101671 [==============================] - 307s 3ms/step - loss: 0.3666 - accuracy: 0.8571\n",
      "Epoch 10/20\n",
      "101671/101671 [==============================] - 338s 3ms/step - loss: 0.3033 - accuracy: 0.9014\n",
      "Epoch 11/20\n",
      "101671/101671 [==============================] - 325s 3ms/step - loss: 0.2997 - accuracy: 0.9042\n",
      "Epoch 12/20\n",
      "101671/101671 [==============================] - 321s 3ms/step - loss: 0.2865 - accuracy: 0.9049\n",
      "Epoch 13/20\n",
      "101671/101671 [==============================] - 233s 2ms/step - loss: 0.2724 - accuracy: 0.9097: 27s - loss: 0.2794 - accurac - ETA: 26s - loss: 0.2793 - ac\n",
      "Epoch 14/20\n",
      "101671/101671 [==============================] - 104s 1ms/step - loss: 0.2014 - accuracy: 0.94580s - loss: 0.2013  - ETA: 0s - loss: 0.2015 \n",
      "Epoch 15/20\n",
      "101671/101671 [==============================] - 120s 1ms/step - loss: 0.1878 - accuracy: 0.9522\n",
      "Epoch 16/20\n",
      "101671/101671 [==============================] - 174s 2ms/step - loss: 0.1823 - accuracy: 0.9535\n",
      "Epoch 17/20\n",
      "101671/101671 [==============================] - 161s 2ms/step - loss: 0.2011 - accuracy: 0.9505\n",
      "Epoch 18/20\n",
      "101671/101671 [==============================] - 149s 1ms/step - loss: 0.1997 - accuracy: 0.9507\n",
      "Epoch 19/20\n",
      "101671/101671 [==============================] - 125s 1ms/step - loss: 0.1801 - accuracy: 0.95392s - loss: 0.1806 - accuracy - ETA: 2s - loss: 0.1805 - accuracy\n",
      "Epoch 20/20\n",
      "101671/101671 [==============================] - 132s 1ms/step - loss: 0.1777 - accuracy: 0.9547: 2:10 - loss: 0.1776 - accura - ETA: 2:10 - ETA: 2:08 - - ETA - ETA: 1:31 - loss: 0.1772 - accuracy - ETA: 1:31 - los - ETA: 1: - ETA: 1:20 - l - ETA: 1:13 - loss: 0.1823 - accuracy - ETA: 1:07 - loss: - ETA: 1:01 - loss: 0.1814 - ac - ETA: 1:01 - loss: 0.181 - ETA: 1:00 - loss: 0.1816 - accu - ETA: 1:00 - loss: 0.1816 -  - ETA: 1:00 - loss: 0.1816 - accura - ETA: 59s - loss: 0.1816 - ac - ETA: 58s - loss: 0.1815 - accura - ETA: 58s - loss: 0.1815 - accuracy: 0. - ETA: 58s - loss: 0.1815 - accuracy: 0.954 - ETA: 58s - loss: 0.1815 - accurac - ETA: 57s - loss: 0.1816 - accuracy: 0 - ETA: 57s - loss: 0.1816  - ETA: 56s - loss: 0.1826 - accurac - ETA: 56s - loss: 0.1826 - ETA: 52s - loss: 0.1826 - accur - ETA: 49s - loss: 0.1826 - acc - ETA: 49s - loss: 0.1824 - accura - ETA: 48s -  - ETA: 47s - loss: 0.1826 - a - ETA: 43s - loss: 0.1823 - accuracy: 0.954 - ETA: 43s - l - ETA: 42s - loss: 0.1820 - ac - ETA: 41s - loss: 0.1818 - accur - ETA: 41s - loss: 0.1815 - accuracy: 0.954 - ETA: 41s - loss: 0.1815 - accuracy: 0 - ETA: 40s - loss: 0.1814 - accuracy: 0 - ETA: 40s - loss: 0.1813 - accuracy: 0.95 - E - ETA: 25s - ETA: 23s - loss: 0.1773 - accuracy: 0. - ETA: 23s - loss: 0.1 - ETA: 22s - loss: 0.1772 - accuracy: 0 - ETA:  - ETA: 19s  - ETA: 15s - loss: 0.1771 - accuracy: - ETA: 15s - loss: 0.1772 - accuracy: - ETA: - E\n"
     ]
    },
    {
     "data": {
      "text/plain": [
       "<keras.callbacks.History at 0x1e81ee10d68>"
      ]
     },
     "execution_count": 21,
     "metadata": {},
     "output_type": "execute_result"
    }
   ],
   "source": [
    "import tensorflow as tf\n",
    "from tensorflow import keras\n",
    "\n",
    "\n",
    "model = keras.Sequential([\n",
    "    keras.layers.Dense(20, input_shape=(8,), activation='relu'),\n",
    "    keras.layers.Dropout(0.5),\n",
    "    keras.layers.Dense(15, activation='relu'),\n",
    "    keras.layers.Dense(1, activation='sigmoid')\n",
    "])\n",
    "\n",
    "# opt = keras.optimizers.Adam(learning_rate=0.01)\n",
    "\n",
    "model.compile(optimizer='adam',\n",
    "              loss='binary_crossentropy',\n",
    "              metrics=['accuracy'])\n",
    "\n",
    "model.fit(X_train, y_train, epochs=20,batch_size=100)"
   ]
  },
  {
   "cell_type": "code",
   "execution_count": 23,
   "id": "a00f4326",
   "metadata": {},
   "outputs": [
    {
     "name": "stdout",
     "output_type": "stream",
     "text": [
      "79431/79431 [==============================] - 60s 750us/step - loss: 0.0984 - accuracy: 0.9803 27s - loss: 0.0978 - accu - ETA: 26s - loss: 0.09 - ETA: 25s - loss: 0.0980 - accuracy: 0. - ETA: 24s - loss: 0.0980 - accuracy: - ETA: 24s - loss: 0.0979 - accuracy: 0 - ETA: 24s - loss: 0.0979 - ac - ETA: 22s -  - ETA: 17s - loss: 0.0981 - accuracy: 0.980 - ETA: 17s - loss: 0.0981 - accuracy: 0.980 - ETA: 17s  - ETA: 13s - l - ETA - ETA: 10s - loss: 0.0983 - accurac - ETA: 10s - loss: 0.098 - ETA: 1s - loss: 0.0983 - accuracy - ETA: 1s - loss: 0.0984 - ac - ETA: 1s - loss: 0.0984 - accuracy: 0.98 - - ETA: 0s - loss: 0.0983 - accura\n"
     ]
    },
    {
     "data": {
      "text/plain": [
       "[0.09836845844984055, 0.9803195595741272]"
      ]
     },
     "execution_count": 23,
     "metadata": {},
     "output_type": "execute_result"
    }
   ],
   "source": [
    "model.evaluate(X_test, y_test)"
   ]
  },
  {
   "cell_type": "code",
   "execution_count": 24,
   "id": "14fb828d",
   "metadata": {},
   "outputs": [
    {
     "data": {
      "text/plain": [
       "array([[5.183349e-10],\n",
       "       [7.804543e-02],\n",
       "       [9.794117e-01],\n",
       "       [7.804543e-02],\n",
       "       [9.794117e-01]], dtype=float32)"
      ]
     },
     "execution_count": 24,
     "metadata": {},
     "output_type": "execute_result"
    }
   ],
   "source": [
    "yp = model.predict(X_test)\n",
    "yp[:5]"
   ]
  },
  {
   "cell_type": "code",
   "execution_count": 25,
   "id": "dbfce673",
   "metadata": {},
   "outputs": [],
   "source": [
    "y_pred = []\n",
    "for element in yp:\n",
    "    if element > 0.5:\n",
    "        y_pred.append(1)\n",
    "    else:\n",
    "        y_pred.append(0)"
   ]
  },
  {
   "cell_type": "code",
   "execution_count": 26,
   "id": "6c154799",
   "metadata": {},
   "outputs": [
    {
     "data": {
      "text/plain": [
       "[0, 0, 1, 0, 1, 0, 1, 0, 1, 1]"
      ]
     },
     "execution_count": 26,
     "metadata": {},
     "output_type": "execute_result"
    }
   ],
   "source": [
    "y_pred[:10]"
   ]
  },
  {
   "cell_type": "code",
   "execution_count": 27,
   "id": "5c822f46",
   "metadata": {
    "scrolled": true
   },
   "outputs": [
    {
     "data": {
      "text/plain": [
       "4042811     0\n",
       "313125      0\n",
       "10357520    1\n",
       "2759331     0\n",
       "6524783     1\n",
       "2356117     0\n",
       "11516568    1\n",
       "2626952     0\n",
       "7216808     1\n",
       "6410010     1\n",
       "Name: isFraud, dtype: int64"
      ]
     },
     "execution_count": 27,
     "metadata": {},
     "output_type": "execute_result"
    }
   ],
   "source": [
    "y_test[:10]"
   ]
  },
  {
   "cell_type": "markdown",
   "id": "93cae6d1",
   "metadata": {},
   "source": [
    "# Question 4 - Demonstrate the performance of the model by using best set of tools."
   ]
  },
  {
   "cell_type": "code",
   "execution_count": 28,
   "id": "cb011fe8",
   "metadata": {},
   "outputs": [
    {
     "name": "stdout",
     "output_type": "stream",
     "text": [
      "              precision    recall  f1-score   support\n",
      "\n",
      "           0       0.98      0.98      0.98   1270882\n",
      "           1       0.98      0.98      0.98   1270881\n",
      "\n",
      "    accuracy                           0.98   2541763\n",
      "   macro avg       0.98      0.98      0.98   2541763\n",
      "weighted avg       0.98      0.98      0.98   2541763\n",
      "\n"
     ]
    }
   ],
   "source": [
    "from sklearn.metrics import confusion_matrix , classification_report\n",
    "\n",
    "print(classification_report(y_test,y_pred))"
   ]
  },
  {
   "cell_type": "code",
   "execution_count": 29,
   "id": "ad1b732c",
   "metadata": {},
   "outputs": [
    {
     "data": {
      "text/plain": [
       "Text(69.0, 0.5, 'Truth')"
      ]
     },
     "execution_count": 29,
     "metadata": {},
     "output_type": "execute_result"
    },
    {
     "data": {
      "image/png": "[encoded data removed]",
      "text/plain": [
       "<Figure size 720x504 with 2 Axes>"
      ]
     },
     "metadata": {
      "needs_background": "light"
     },
     "output_type": "display_data"
    }
   ],
   "source": [
    "import seaborn as sn\n",
    "cm = tf.math.confusion_matrix(labels=y_test,predictions=y_pred)\n",
    "\n",
    "plt.figure(figsize = (10,7))\n",
    "sn.heatmap(cm, annot=True, fmt='d')\n",
    "plt.xlabel('Predicted')\n",
    "plt.ylabel('Truth')"
   ]
  },
  {
   "cell_type": "code",
   "execution_count": 30,
   "id": "4a98b6e4",
   "metadata": {},
   "outputs": [
    {
     "data": {
      "text/plain": [
       "[1, 1, 0, 1, 0, 0, 0, 0, 1, 1]"
      ]
     },
     "execution_count": 30,
     "metadata": {},
     "output_type": "execute_result"
    }
   ],
   "source": [
    "y_pred[-10:]"
   ]
  },
  {
   "cell_type": "code",
   "execution_count": 31,
   "id": "f998e22a",
   "metadata": {
    "scrolled": true
   },
   "outputs": [
    {
     "data": {
      "text/plain": [
       "9354359     1\n",
       "7431018     1\n",
       "173729      0\n",
       "11523364    1\n",
       "5847346     0\n",
       "3492354     0\n",
       "3796441     0\n",
       "1756927     0\n",
       "8098484     1\n",
       "6920147     1\n",
       "Name: isFraud, dtype: int64"
      ]
     },
     "execution_count": 31,
     "metadata": {},
     "output_type": "execute_result"
    }
   ],
   "source": [
    "y_test[-10:]"
   ]
  },
  {
   "cell_type": "markdown",
   "id": "04064c12",
   "metadata": {},
   "source": [
    "# Question 2 - Describe your fraud detection model in elaboration."
   ]
  },
  {
   "cell_type": "raw",
   "id": "42411f25",
   "metadata": {},
   "source": [
    "As we are moving towards the digital world — cybersecurity is becoming a crucial part of our life. When we talk about security in digital life then the main challenge is to find the abnormal activity.\n",
    "\n",
    "When we make any transaction people prefer different modes of transactions such as, onlne transfer, Cash, Credit and Debit Cards. But, on the other hand, these features are misused by cyber attackers.\n",
    "\n",
    "To tackle this problem we need a system that can abort the transaction if it finds fishy.\n",
    "\n",
    "Here, comes the need for a system that can track the pattern of all the transactions and if any pattern is abnormal then the transaction should be aborted.\n",
    "\n",
    "This dataset contains the real bank transactions. So in total After analysing the data columns, we have found following interpretations - \n",
    "    1. Data columns nameOrig and nameDest are both useless as a feature for our Model.\n",
    "    2. So here we are considering total 9 columns as 8 Features and 1 Labal (Target).\n",
    "\n",
    "Afterwards we looked at dataset for below points - \n",
    "    1. Null Valus - No null values found in the dataset.\n",
    "    2. We found 1 categorical column \"type\" (Type of Transaction) which contains 5 types of transaction modes and converted it to Numerical Column.\n",
    "    3. Imbalanced Data - Found Imbalnced dataset here as per below criteria - \n",
    "        a. Total number of non-fraud transactions - 6354407\n",
    "        b. Total number of fraud transactions - 8213\n",
    "       Imbalanced dataset makes a worst model and may increase the probability of Overfitting or Underfitting problems in the model which may in turn led to wrong predictions towards the future transactions.\n",
    "       \n",
    "Hence to treat Imbalancd dataset and make it balanced dataset, We have used SMOTE(Synthetic Minority Oversampling Technique). SMOTE first selects a minority class instance at raansom and finds its k nearest minority class neighbors. The synthetic instance is then created by choosing one of the k nearest neighbors b at random and connecting a and b form a line segment in the feature space. The synthetic instances are generated as a conve combination of two choosen instances a and b.\n",
    "\n",
    "       \n",
    "After Data cleaning process, we again validted the dataset for further procesing and then we split the data set into Training Set and Test Set. Training set will be used to train and create a model and Test set will be used to validate  and check performance of the model.\n",
    "        \n",
    "Lastly we have created Artificial Neural Network (ANN) for building our model using Tensorflow/Keras. After trainiing the model upto 20 epochs we found accuracy of our model nearly 95%."
   ]
  },
  {
   "cell_type": "markdown",
   "id": "12bedef7",
   "metadata": {},
   "source": [
    "# Question 3 - How did you select variables to be included in the model?"
   ]
  },
  {
   "cell_type": "raw",
   "id": "7a0845e1",
   "metadata": {},
   "source": [
    "After analysing the data columns, we have found that - \n",
    "    1. Data columns nameOrig and nameDest are both useless as a feature for our Model. \n",
    "    2. So here we are considering total 9 columns as 8 Features and 1 Labal (Target). \n",
    "All other features are somehow relating to our target column(isFraud).So we drop the columns which are useless."
   ]
  },
  {
   "cell_type": "markdown",
   "id": "4edf5ef4",
   "metadata": {},
   "source": [
    "# Question 5 - What are the key factors that predict fraudulent customer?"
   ]
  },
  {
   "cell_type": "raw",
   "id": "8a66a9eb",
   "metadata": {},
   "source": [
    "The key factors that predict fraudlent customers are type, amount, oldbalanceOrg, newbalanceOrig, oldbalanceDest, newbalanceDest As we see in the dataset that fraud behaviour is vary as according to our type of transaction and amount.And the amount factor vary oldbalanceOrg, newbalanceOrig, oldbalanceDest, newbalanceDest "
   ]
  },
  {
   "cell_type": "markdown",
   "id": "2ea638b3",
   "metadata": {},
   "source": [
    "# Question 6 - Do these factors make sense? If yes, How? If not, How not?"
   ]
  },
  {
   "cell_type": "markdown",
   "id": "e4b7d7bc",
   "metadata": {},
   "source": [
    "Yes,these factors makes sense.\n",
    "In our dataset the fraudulent behavior of the agents aims to profit by taking control or customers accounts and try to empty the funds by transferring to another account and then cashing out of the system.\n",
    "Also there is relation between oldbalanceOrg, newbalanceOrig, oldbalanceDest, newbalanceDest according to type."
   ]
  },
  {
   "cell_type": "markdown",
   "id": "66f4a856",
   "metadata": {},
   "source": [
    "# Question 7 - What kind of prevention should be adopted while company update its infrastructure?"
   ]
  },
  {
   "cell_type": "markdown",
   "id": "81c24b4d",
   "metadata": {},
   "source": [
    "We all agree that we want quality infrastructure, because we know that quality reduces project risks, increases availability and durability over a project’s lifecycle, improves customer experience and as such makes the infrastructure worth the investment."
   ]
  },
  {
   "cell_type": "markdown",
   "id": "8278895c",
   "metadata": {},
   "source": [
    "# Question 8 - Assuming these actions have been implemented, how would you determine if they work?"
   ]
  },
  {
   "cell_type": "raw",
   "id": "103c8607",
   "metadata": {},
   "source": [
    "To determine working of the actions, We need to adopt MLOPS Tech Stack, By which we can monitor over our Models, Implement Continuous Training to improve Performance of our model, Configure alerts for production failures and many more."
   ]
  }
 ],
 "metadata": {
  "kernelspec": {
   "display_name": "Python 3",
   "language": "python",
   "name": "python3"
  },
  "language_info": {
   "codemirror_mode": {
    "name": "ipython",
    "version": 3
   },
   "file_extension": ".py",
   "mimetype": "text/x-python",
   "name": "python",
   "nbconvert_exporter": "python",
   "pygments_lexer": "ipython3",
   "version": "3.6.5"
  }
 },
 "nbformat": 4,
 "nbformat_minor": 5
}
